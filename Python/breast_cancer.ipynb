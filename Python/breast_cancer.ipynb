{
 "cells": [
  {
   "cell_type": "code",
   "execution_count": 1,
   "id": "3ac971b3",
   "metadata": {},
   "outputs": [],
   "source": [
    "# 필요한 모듈을 전부 불러오기\n",
    "from sklearn.datasets import load_breast_cancer\n",
    "from sklearn.model_selection import train_test_split\n",
    "from sklearn.metrics import classification_report"
   ]
  },
  {
   "cell_type": "code",
   "execution_count": 2,
   "id": "953d0255",
   "metadata": {},
   "outputs": [],
   "source": [
    "# 5가지 모듈 불러오기\n",
    "from sklearn.tree import DecisionTreeClassifier\n",
    "from sklearn.ensemble import RandomForestClassifier\n",
    "from sklearn.svm import SVC\n",
    "from sklearn.linear_model import SGDClassifier\n",
    "from sklearn.linear_model import LogisticRegression"
   ]
  },
  {
   "cell_type": "code",
   "execution_count": 3,
   "id": "39a1cadc",
   "metadata": {},
   "outputs": [],
   "source": [
    "# 불러온 데이터를 변수에 정리\n",
    "breast_cancer = load_breast_cancer()\n",
    "breast_cancer_data = breast_cancer.data\n",
    "breast_cancer_label = breast_cancer.target"
   ]
  },
  {
   "cell_type": "code",
   "execution_count": 4,
   "id": "969cd206",
   "metadata": {},
   "outputs": [],
   "source": [
    "X_train, X_test, y_train, y_test = train_test_split(breast_cancer_data, breast_cancer_label, test_size=0.2) # 데이터를 8:2비율로 잘라 문제로 만들어 저장"
   ]
  },
  {
   "cell_type": "code",
   "execution_count": 5,
   "id": "94a1d062",
   "metadata": {},
   "outputs": [],
   "source": [
    "# Decision Tree모델 사용\n",
    "breast_cancer_tree = DecisionTreeClassifier()\n",
    "breast_cancer_tree.fit(X_train, y_train)\n",
    "y_pred_tree = breast_cancer_tree.predict(X_test)"
   ]
  },
  {
   "cell_type": "code",
   "execution_count": 6,
   "id": "2e1c51c7",
   "metadata": {},
   "outputs": [],
   "source": [
    "# Random Forest모델 사용\n",
    "breast_cancer_forest = RandomForestClassifier()\n",
    "breast_cancer_forest.fit(X_train, y_train)\n",
    "y_pred_forest = breast_cancer_forest.predict(X_test)"
   ]
  },
  {
   "cell_type": "code",
   "execution_count": 7,
   "id": "7446159d",
   "metadata": {},
   "outputs": [],
   "source": [
    "# Support Vector Machine모델 사용\n",
    "breast_cancer_cvm = SVC()\n",
    "breast_cancer_cvm.fit(X_train, y_train)\n",
    "y_pred_cvm = breast_cancer_cvm.predict(X_test)"
   ]
  },
  {
   "cell_type": "code",
   "execution_count": 8,
   "id": "012b0554",
   "metadata": {},
   "outputs": [],
   "source": [
    "# Stochastic Gradient Descent Classifier모델사용\n",
    "breast_cancer_sgd = SGDClassifier()\n",
    "breast_cancer_sgd.fit(X_train, y_train)\n",
    "y_pred_sgd = breast_cancer_sgd.predict(X_test)"
   ]
  },
  {
   "cell_type": "code",
   "execution_count": 9,
   "id": "1ab41913",
   "metadata": {},
   "outputs": [
    {
     "name": "stderr",
     "output_type": "stream",
     "text": [
      "/opt/conda/lib/python3.9/site-packages/sklearn/linear_model/_logistic.py:814: ConvergenceWarning: lbfgs failed to converge (status=1):\n",
      "STOP: TOTAL NO. of ITERATIONS REACHED LIMIT.\n",
      "\n",
      "Increase the number of iterations (max_iter) or scale the data as shown in:\n",
      "    https://scikit-learn.org/stable/modules/preprocessing.html\n",
      "Please also refer to the documentation for alternative solver options:\n",
      "    https://scikit-learn.org/stable/modules/linear_model.html#logistic-regression\n",
      "  n_iter_i = _check_optimize_result(\n"
     ]
    }
   ],
   "source": [
    "# Logistic Regression모델 사용\n",
    "breast_cancer_lofistic = LogisticRegression()\n",
    "breast_cancer_lofistic.fit(X_train, y_train)\n",
    "y_pred_lofistic = breast_cancer_lofistic.predict(X_test)"
   ]
  },
  {
   "cell_type": "code",
   "execution_count": 10,
   "id": "8cfc484d",
   "metadata": {},
   "outputs": [
    {
     "name": "stdout",
     "output_type": "stream",
     "text": [
      "              precision    recall  f1-score   support\n",
      "\n",
      "           0       0.83      0.83      0.83        36\n",
      "           1       0.92      0.92      0.92        78\n",
      "\n",
      "    accuracy                           0.89       114\n",
      "   macro avg       0.88      0.88      0.88       114\n",
      "weighted avg       0.89      0.89      0.89       114\n",
      "               precision    recall  f1-score   support\n",
      "\n",
      "           0       0.97      0.89      0.93        36\n",
      "           1       0.95      0.99      0.97        78\n",
      "\n",
      "    accuracy                           0.96       114\n",
      "   macro avg       0.96      0.94      0.95       114\n",
      "weighted avg       0.96      0.96      0.96       114\n",
      "               precision    recall  f1-score   support\n",
      "\n",
      "           0       0.96      0.75      0.84        36\n",
      "           1       0.90      0.99      0.94        78\n",
      "\n",
      "    accuracy                           0.91       114\n",
      "   macro avg       0.93      0.87      0.89       114\n",
      "weighted avg       0.92      0.91      0.91       114\n",
      "               precision    recall  f1-score   support\n",
      "\n",
      "           0       0.73      0.92      0.81        36\n",
      "           1       0.96      0.85      0.90        78\n",
      "\n",
      "    accuracy                           0.87       114\n",
      "   macro avg       0.84      0.88      0.86       114\n",
      "weighted avg       0.89      0.87      0.87       114\n",
      "               precision    recall  f1-score   support\n",
      "\n",
      "           0       0.91      0.86      0.89        36\n",
      "           1       0.94      0.96      0.95        78\n",
      "\n",
      "    accuracy                           0.93       114\n",
      "   macro avg       0.92      0.91      0.92       114\n",
      "weighted avg       0.93      0.93      0.93       114\n",
      "\n"
     ]
    }
   ],
   "source": [
    "# 전부 출력\n",
    "print(classification_report(y_test, y_pred_tree), classification_report(y_test, y_pred_forest), classification_report(y_test, y_pred_cvm), classification_report(y_test, y_pred_sgd), classification_report(y_test, y_pred_lofistic))"
   ]
  },
  {
   "cell_type": "code",
   "execution_count": null,
   "id": "40f5e22d",
   "metadata": {},
   "outputs": [],
   "source": [
    "유방암 판단에 5가지 방법을 사용해본 결과 Random Forest모델이 가장 Recall 정확도가 높게 나왔다"
   ]
  }
 ],
 "metadata": {
  "kernelspec": {
   "display_name": "Python 3 (ipykernel)",
   "language": "python",
   "name": "python3"
  },
  "language_info": {
   "codemirror_mode": {
    "name": "ipython",
    "version": 3
   },
   "file_extension": ".py",
   "mimetype": "text/x-python",
   "name": "python",
   "nbconvert_exporter": "python",
   "pygments_lexer": "ipython3",
   "version": "3.9.7"
  }
 },
 "nbformat": 4,
 "nbformat_minor": 5
}
