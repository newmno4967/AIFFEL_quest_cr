{
 "cells": [
  {
   "cell_type": "code",
   "execution_count": 18,
   "id": "7d897cfc",
   "metadata": {},
   "outputs": [],
   "source": [
    "# 필요한 모듈을 전부 불러오기\n",
    "from sklearn.datasets import load_digits\n",
    "from sklearn.model_selection import train_test_split\n",
    "from sklearn.metrics import classification_report"
   ]
  },
  {
   "cell_type": "code",
   "execution_count": 19,
   "id": "62094ea7",
   "metadata": {},
   "outputs": [],
   "source": [
    "# 5가지 모듈 불러오기\n",
    "from sklearn.tree import DecisionTreeClassifier\n",
    "from sklearn.ensemble import RandomForestClassifier\n",
    "from sklearn.svm import SVC\n",
    "from sklearn.linear_model import SGDClassifier\n",
    "from sklearn.linear_model import LogisticRegression"
   ]
  },
  {
   "cell_type": "code",
   "execution_count": 20,
   "id": "0bc72cf8",
   "metadata": {},
   "outputs": [],
   "source": [
    "# 불러온 데이터를 변수에 정리\n",
    "digits = load_digits()\n",
    "digits_data = digits.data\n",
    "digits_label = digits.target"
   ]
  },
  {
   "cell_type": "code",
   "execution_count": 21,
   "id": "c9e5b201",
   "metadata": {},
   "outputs": [],
   "source": [
    "X_train, X_test, y_train, y_test = train_test_split(digits_data, digits_label, test_size=0.2) # 데이터를 8:2비율로 잘라 문제로 만들어 저장"
   ]
  },
  {
   "cell_type": "code",
   "execution_count": 22,
   "id": "03757b3b",
   "metadata": {},
   "outputs": [],
   "source": [
    "# Decision Tree모델 사용\n",
    "digits_tree = DecisionTreeClassifier()\n",
    "digits_tree.fit(X_train, y_train)\n",
    "y_pred_tree = digits_tree.predict(X_test)"
   ]
  },
  {
   "cell_type": "code",
   "execution_count": 23,
   "id": "fbb258eb",
   "metadata": {},
   "outputs": [],
   "source": [
    "# Random Forest모델 사용\n",
    "digits_forest = RandomForestClassifier()\n",
    "digits_forest.fit(X_train, y_train)\n",
    "y_pred_forest = digits_forest.predict(X_test)"
   ]
  },
  {
   "cell_type": "code",
   "execution_count": 24,
   "id": "3c59853a",
   "metadata": {},
   "outputs": [],
   "source": [
    "# Support Vector Machine모델 사용\n",
    "digits_cvm = SVC()\n",
    "digits_cvm.fit(X_train, y_train)\n",
    "y_pred_cvm = digits_cvm.predict(X_test)"
   ]
  },
  {
   "cell_type": "code",
   "execution_count": 25,
   "id": "e9b4fc7d",
   "metadata": {},
   "outputs": [],
   "source": [
    "# Stochastic Gradient Descent Classifier모델사용\n",
    "digits_sgd = SGDClassifier()\n",
    "digits_sgd.fit(X_train, y_train)\n",
    "y_pred_sgd = digits_sgd.predict(X_test)"
   ]
  },
  {
   "cell_type": "code",
   "execution_count": 26,
   "id": "345361cb",
   "metadata": {},
   "outputs": [
    {
     "name": "stderr",
     "output_type": "stream",
     "text": [
      "/opt/conda/lib/python3.9/site-packages/sklearn/linear_model/_logistic.py:814: ConvergenceWarning: lbfgs failed to converge (status=1):\n",
      "STOP: TOTAL NO. of ITERATIONS REACHED LIMIT.\n",
      "\n",
      "Increase the number of iterations (max_iter) or scale the data as shown in:\n",
      "    https://scikit-learn.org/stable/modules/preprocessing.html\n",
      "Please also refer to the documentation for alternative solver options:\n",
      "    https://scikit-learn.org/stable/modules/linear_model.html#logistic-regression\n",
      "  n_iter_i = _check_optimize_result(\n"
     ]
    }
   ],
   "source": [
    "# Logistic Regression모델 사용\n",
    "digits_lofistic = LogisticRegression()\n",
    "digits_lofistic.fit(X_train, y_train)\n",
    "y_pred_lofistic = digits_lofistic.predict(X_test)"
   ]
  },
  {
   "cell_type": "code",
   "execution_count": 27,
   "id": "a4dcb960",
   "metadata": {},
   "outputs": [
    {
     "name": "stdout",
     "output_type": "stream",
     "text": [
      "              precision    recall  f1-score   support\n",
      "\n",
      "           0       0.94      1.00      0.97        31\n",
      "           1       0.94      0.89      0.92        37\n",
      "           2       0.92      0.83      0.87        41\n",
      "           3       0.86      0.79      0.83        39\n",
      "           4       0.82      0.91      0.86        34\n",
      "           5       0.97      0.85      0.90        39\n",
      "           6       0.88      0.94      0.91        32\n",
      "           7       0.82      0.88      0.85        32\n",
      "           8       0.76      0.84      0.79        37\n",
      "           9       0.79      0.79      0.79        38\n",
      "\n",
      "    accuracy                           0.87       360\n",
      "   macro avg       0.87      0.87      0.87       360\n",
      "weighted avg       0.87      0.87      0.87       360\n",
      "               precision    recall  f1-score   support\n",
      "\n",
      "           0       1.00      1.00      1.00        31\n",
      "           1       1.00      0.97      0.99        37\n",
      "           2       1.00      1.00      1.00        41\n",
      "           3       1.00      0.97      0.99        39\n",
      "           4       0.97      1.00      0.99        34\n",
      "           5       0.97      0.97      0.97        39\n",
      "           6       1.00      1.00      1.00        32\n",
      "           7       0.94      1.00      0.97        32\n",
      "           8       0.97      0.97      0.97        37\n",
      "           9       1.00      0.97      0.99        38\n",
      "\n",
      "    accuracy                           0.99       360\n",
      "   macro avg       0.99      0.99      0.99       360\n",
      "weighted avg       0.99      0.99      0.99       360\n",
      "               precision    recall  f1-score   support\n",
      "\n",
      "           0       1.00      1.00      1.00        31\n",
      "           1       1.00      1.00      1.00        37\n",
      "           2       1.00      1.00      1.00        41\n",
      "           3       1.00      0.95      0.97        39\n",
      "           4       1.00      1.00      1.00        34\n",
      "           5       0.97      1.00      0.99        39\n",
      "           6       1.00      1.00      1.00        32\n",
      "           7       0.97      1.00      0.98        32\n",
      "           8       0.97      1.00      0.99        37\n",
      "           9       1.00      0.97      0.99        38\n",
      "\n",
      "    accuracy                           0.99       360\n",
      "   macro avg       0.99      0.99      0.99       360\n",
      "weighted avg       0.99      0.99      0.99       360\n",
      "               precision    recall  f1-score   support\n",
      "\n",
      "           0       1.00      1.00      1.00        31\n",
      "           1       0.94      0.89      0.92        37\n",
      "           2       1.00      1.00      1.00        41\n",
      "           3       0.97      0.90      0.93        39\n",
      "           4       1.00      1.00      1.00        34\n",
      "           5       0.93      1.00      0.96        39\n",
      "           6       1.00      1.00      1.00        32\n",
      "           7       1.00      0.94      0.97        32\n",
      "           8       0.81      0.92      0.86        37\n",
      "           9       1.00      0.97      0.99        38\n",
      "\n",
      "    accuracy                           0.96       360\n",
      "   macro avg       0.97      0.96      0.96       360\n",
      "weighted avg       0.96      0.96      0.96       360\n",
      "               precision    recall  f1-score   support\n",
      "\n",
      "           0       1.00      1.00      1.00        31\n",
      "           1       0.92      0.92      0.92        37\n",
      "           2       1.00      0.98      0.99        41\n",
      "           3       1.00      0.95      0.97        39\n",
      "           4       0.97      1.00      0.99        34\n",
      "           5       0.95      0.95      0.95        39\n",
      "           6       1.00      1.00      1.00        32\n",
      "           7       1.00      1.00      1.00        32\n",
      "           8       0.92      0.92      0.92        37\n",
      "           9       0.93      0.97      0.95        38\n",
      "\n",
      "    accuracy                           0.97       360\n",
      "   macro avg       0.97      0.97      0.97       360\n",
      "weighted avg       0.97      0.97      0.97       360\n",
      "\n"
     ]
    }
   ],
   "source": [
    "# 전부 출력\n",
    "print(classification_report(y_test, y_pred_tree), classification_report(y_test, y_pred_forest), classification_report(y_test, y_pred_cvm), classification_report(y_test, y_pred_sgd), classification_report(y_test, y_pred_lofistic))"
   ]
  },
  {
   "cell_type": "markdown",
   "id": "e8cedd32",
   "metadata": {},
   "source": [
    "손글씨 분류에 5가지 방법을 사용해본 결과 Support Vector Machine모델이 가장 정확도가 높게 나왔다"
   ]
  }
 ],
 "metadata": {
  "kernelspec": {
   "display_name": "Python 3 (ipykernel)",
   "language": "python",
   "name": "python3"
  },
  "language_info": {
   "codemirror_mode": {
    "name": "ipython",
    "version": 3
   },
   "file_extension": ".py",
   "mimetype": "text/x-python",
   "name": "python",
   "nbconvert_exporter": "python",
   "pygments_lexer": "ipython3",
   "version": "3.9.7"
  }
 },
 "nbformat": 4,
 "nbformat_minor": 5
}
