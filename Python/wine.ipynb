{
 "cells": [
  {
   "cell_type": "code",
   "execution_count": 1,
   "id": "3e7f1544",
   "metadata": {},
   "outputs": [],
   "source": [
    "# 필요한 모듈을 전부 불러오기\n",
    "from sklearn.datasets import load_wine\n",
    "from sklearn.model_selection import train_test_split\n",
    "from sklearn.metrics import classification_report"
   ]
  },
  {
   "cell_type": "code",
   "execution_count": 2,
   "id": "319f1c00",
   "metadata": {},
   "outputs": [],
   "source": [
    "# 5가지 모듈 불러오기\n",
    "from sklearn.tree import DecisionTreeClassifier\n",
    "from sklearn.ensemble import RandomForestClassifier\n",
    "from sklearn.svm import SVC\n",
    "from sklearn.linear_model import SGDClassifier\n",
    "from sklearn.linear_model import LogisticRegression"
   ]
  },
  {
   "cell_type": "code",
   "execution_count": 3,
   "id": "42d74442",
   "metadata": {},
   "outputs": [],
   "source": [
    "# 불러온 데이터를 변수에 정리\n",
    "wine = load_wine()\n",
    "wine_data = wine.data\n",
    "wine_label = wine.target"
   ]
  },
  {
   "cell_type": "code",
   "execution_count": 4,
   "id": "534201d1",
   "metadata": {},
   "outputs": [],
   "source": [
    "X_train, X_test, y_train, y_test = train_test_split(wine_data, wine_label, test_size=0.2) # 데이터를 8:2비율로 잘라 문제로 만들어 저장"
   ]
  },
  {
   "cell_type": "code",
   "execution_count": 5,
   "id": "a360cf25",
   "metadata": {},
   "outputs": [],
   "source": [
    "# Decision Tree모델 사용\n",
    "wine_tree = DecisionTreeClassifier()\n",
    "wine_tree.fit(X_train, y_train)\n",
    "y_pred_tree = wine_tree.predict(X_test)"
   ]
  },
  {
   "cell_type": "code",
   "execution_count": 6,
   "id": "a9d14b78",
   "metadata": {},
   "outputs": [],
   "source": [
    "# Random Forest모델 사용\n",
    "wine_forest = RandomForestClassifier()\n",
    "wine_forest.fit(X_train, y_train)\n",
    "y_pred_forest = wine_forest.predict(X_test)"
   ]
  },
  {
   "cell_type": "code",
   "execution_count": 7,
   "id": "332ef974",
   "metadata": {},
   "outputs": [],
   "source": [
    "# Support Vector Machine모델 사용\n",
    "wine_cvm = SVC()\n",
    "wine_cvm.fit(X_train, y_train)\n",
    "y_pred_cvm = wine_cvm.predict(X_test)"
   ]
  },
  {
   "cell_type": "code",
   "execution_count": 8,
   "id": "7551109c",
   "metadata": {},
   "outputs": [],
   "source": [
    "# Stochastic Gradient Descent Classifier모델사용\n",
    "wine_sgd = SGDClassifier()\n",
    "wine_sgd.fit(X_train, y_train)\n",
    "y_pred_sgd = wine_sgd.predict(X_test)"
   ]
  },
  {
   "cell_type": "code",
   "execution_count": 9,
   "id": "48d8da74",
   "metadata": {},
   "outputs": [
    {
     "name": "stderr",
     "output_type": "stream",
     "text": [
      "/opt/conda/lib/python3.9/site-packages/sklearn/linear_model/_logistic.py:814: ConvergenceWarning: lbfgs failed to converge (status=1):\n",
      "STOP: TOTAL NO. of ITERATIONS REACHED LIMIT.\n",
      "\n",
      "Increase the number of iterations (max_iter) or scale the data as shown in:\n",
      "    https://scikit-learn.org/stable/modules/preprocessing.html\n",
      "Please also refer to the documentation for alternative solver options:\n",
      "    https://scikit-learn.org/stable/modules/linear_model.html#logistic-regression\n",
      "  n_iter_i = _check_optimize_result(\n"
     ]
    }
   ],
   "source": [
    "# Logistic Regression모델 사용\n",
    "wine_lofistic = LogisticRegression()\n",
    "wine_lofistic.fit(X_train, y_train)\n",
    "y_pred_lofistic = wine_lofistic.predict(X_test)"
   ]
  },
  {
   "cell_type": "code",
   "execution_count": 10,
   "id": "c3bad6cd",
   "metadata": {},
   "outputs": [
    {
     "name": "stdout",
     "output_type": "stream",
     "text": [
      "              precision    recall  f1-score   support\n",
      "\n",
      "           0       0.92      0.92      0.92        12\n",
      "           1       0.92      0.80      0.86        15\n",
      "           2       0.82      1.00      0.90         9\n",
      "\n",
      "    accuracy                           0.89        36\n",
      "   macro avg       0.89      0.91      0.89        36\n",
      "weighted avg       0.89      0.89      0.89        36\n",
      "               precision    recall  f1-score   support\n",
      "\n",
      "           0       1.00      1.00      1.00        12\n",
      "           1       1.00      1.00      1.00        15\n",
      "           2       1.00      1.00      1.00         9\n",
      "\n",
      "    accuracy                           1.00        36\n",
      "   macro avg       1.00      1.00      1.00        36\n",
      "weighted avg       1.00      1.00      1.00        36\n",
      "               precision    recall  f1-score   support\n",
      "\n",
      "           0       0.91      0.83      0.87        12\n",
      "           1       0.67      0.80      0.73        15\n",
      "           2       0.43      0.33      0.38         9\n",
      "\n",
      "    accuracy                           0.69        36\n",
      "   macro avg       0.67      0.66      0.66        36\n",
      "weighted avg       0.69      0.69      0.69        36\n",
      "               precision    recall  f1-score   support\n",
      "\n",
      "           0       0.91      0.83      0.87        12\n",
      "           1       1.00      0.13      0.24        15\n",
      "           2       0.39      1.00      0.56         9\n",
      "\n",
      "    accuracy                           0.58        36\n",
      "   macro avg       0.77      0.66      0.56        36\n",
      "weighted avg       0.82      0.58      0.53        36\n",
      "               precision    recall  f1-score   support\n",
      "\n",
      "           0       0.92      1.00      0.96        12\n",
      "           1       1.00      0.93      0.97        15\n",
      "           2       1.00      1.00      1.00         9\n",
      "\n",
      "    accuracy                           0.97        36\n",
      "   macro avg       0.97      0.98      0.98        36\n",
      "weighted avg       0.97      0.97      0.97        36\n",
      "\n"
     ]
    }
   ],
   "source": [
    "# 전부 출력\n",
    "print(classification_report(y_test, y_pred_tree), classification_report(y_test, y_pred_forest), classification_report(y_test, y_pred_cvm), classification_report(y_test, y_pred_sgd), classification_report(y_test, y_pred_lofistic))"
   ]
  },
  {
   "cell_type": "code",
   "execution_count": null,
   "id": "d0ec5bf5",
   "metadata": {},
   "outputs": [],
   "source": [
    "와인 분류에 5가지 방법을 사용해본 결과 Random Forest모델이 가장 정확도가 높게 나왔다"
   ]
  }
 ],
 "metadata": {
  "kernelspec": {
   "display_name": "Python 3 (ipykernel)",
   "language": "python",
   "name": "python3"
  },
  "language_info": {
   "codemirror_mode": {
    "name": "ipython",
    "version": 3
   },
   "file_extension": ".py",
   "mimetype": "text/x-python",
   "name": "python",
   "nbconvert_exporter": "python",
   "pygments_lexer": "ipython3",
   "version": "3.9.7"
  }
 },
 "nbformat": 4,
 "nbformat_minor": 5
}
