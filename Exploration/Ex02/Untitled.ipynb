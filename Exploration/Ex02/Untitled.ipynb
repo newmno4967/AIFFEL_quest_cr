{
 "cells": [
  {
   "cell_type": "code",
   "execution_count": 11,
   "id": "f486a414",
   "metadata": {},
   "outputs": [
    {
     "name": "stderr",
     "output_type": "stream",
     "text": [
      "[nltk_data] Downloading package stopwords to /aiffel/nltk_data...\n",
      "[nltk_data]   Unzipping corpora/stopwords.zip.\n"
     ]
    },
    {
     "name": "stdout",
     "output_type": "stream",
     "text": [
      "3.6.5\n",
      "2.6.0\n",
      "1.3.3\n",
      "1.2.0\n"
     ]
    }
   ],
   "source": [
    "from importlib.metadata import version\n",
    "import nltk\n",
    "import tensorflow\n",
    "import summa\n",
    "import pandas as pd\n",
    "\n",
    "import nltk\n",
    "nltk.download('stopwords')\n",
    "\n",
    "import numpy as np\n",
    "import os\n",
    "import re\n",
    "import matplotlib.pyplot as plt\n",
    "from nltk.corpus import stopwords\n",
    "from bs4 import BeautifulSoup \n",
    "from tensorflow.keras.preprocessing.text import Tokenizer \n",
    "from tensorflow.keras.preprocessing.sequence import pad_sequences\n",
    "import urllib.request\n",
    "import warnings\n",
    "\n",
    "print(nltk.__version__)\n",
    "print(tensorflow.__version__)\n",
    "print(pd.__version__)\n",
    "print(version('summa'))"
   ]
  },
  {
   "cell_type": "code",
   "execution_count": 19,
   "id": "3d7e01d2",
   "metadata": {},
   "outputs": [],
   "source": [
    "import urllib.request\n",
    "urllib.request.urlretrieve(\"https://raw.githubusercontent.com/sunnysai12345/News_Summary/master/news_summary_more.csv\", filename=\"news_summary_more.csv\")\n",
    "data = pd.read_csv('news_summary_more.csv', encoding='iso-8859-1')"
   ]
  },
  {
   "cell_type": "code",
   "execution_count": 3,
   "id": "e23a54b2",
   "metadata": {},
   "outputs": [
    {
     "data": {
      "text/html": [
       "<div>\n",
       "<style scoped>\n",
       "    .dataframe tbody tr th:only-of-type {\n",
       "        vertical-align: middle;\n",
       "    }\n",
       "\n",
       "    .dataframe tbody tr th {\n",
       "        vertical-align: top;\n",
       "    }\n",
       "\n",
       "    .dataframe thead th {\n",
       "        text-align: right;\n",
       "    }\n",
       "</style>\n",
       "<table border=\"1\" class=\"dataframe\">\n",
       "  <thead>\n",
       "    <tr style=\"text-align: right;\">\n",
       "      <th></th>\n",
       "      <th>headlines</th>\n",
       "      <th>text</th>\n",
       "    </tr>\n",
       "  </thead>\n",
       "  <tbody>\n",
       "    <tr>\n",
       "      <th>34975</th>\n",
       "      <td>Teaser of Harshvardhan starrer 'Bhavesh Joshi ...</td>\n",
       "      <td>The official teaser of Anil Kapoor's son Harsh...</td>\n",
       "    </tr>\n",
       "    <tr>\n",
       "      <th>14023</th>\n",
       "      <td>Give satisfactory explanation or resign: Congr...</td>\n",
       "      <td>The Congress has said that Union Minister and ...</td>\n",
       "    </tr>\n",
       "    <tr>\n",
       "      <th>89010</th>\n",
       "      <td>Wanted Kejriwal's look for my Sarkar 3 charact...</td>\n",
       "      <td>Actor Manoj Bajpayee has revealed that the tea...</td>\n",
       "    </tr>\n",
       "    <tr>\n",
       "      <th>34611</th>\n",
       "      <td>Very good news: Trump on N Korea's nuclear tes...</td>\n",
       "      <td>US President Donald Trump has welcomed the ann...</td>\n",
       "    </tr>\n",
       "    <tr>\n",
       "      <th>75833</th>\n",
       "      <td>Maha govt moves to SC seeking to criminalise b...</td>\n",
       "      <td>The Maharashtra government has moved the Supre...</td>\n",
       "    </tr>\n",
       "    <tr>\n",
       "      <th>82488</th>\n",
       "      <td>'Fab Four' ready to protect tennis domination:...</td>\n",
       "      <td>Eighteen-time Grand Slam champion Roger Federe...</td>\n",
       "    </tr>\n",
       "    <tr>\n",
       "      <th>57286</th>\n",
       "      <td>Manish Arora unveils 'All we need is love' art...</td>\n",
       "      <td>Fashion designer Manish Arora has unveiled his...</td>\n",
       "    </tr>\n",
       "    <tr>\n",
       "      <th>62231</th>\n",
       "      <td>Part of Housefull 4 will be set in Baahubali e...</td>\n",
       "      <td>Producer Sajid Nadiadwala has said a part of h...</td>\n",
       "    </tr>\n",
       "    <tr>\n",
       "      <th>93576</th>\n",
       "      <td>Telangana CM to work as coolie to bear cost fo...</td>\n",
       "      <td>Telangana CM K Chandrasekhar Rao will work as ...</td>\n",
       "    </tr>\n",
       "    <tr>\n",
       "      <th>70605</th>\n",
       "      <td>Godrej Agrovet IPO to raise up to Ã¢ÂÂ¹1200 c...</td>\n",
       "      <td>Godrej Industries' agribusiness arm Godrej Agr...</td>\n",
       "    </tr>\n",
       "  </tbody>\n",
       "</table>\n",
       "</div>"
      ],
      "text/plain": [
       "                                               headlines  \\\n",
       "34975  Teaser of Harshvardhan starrer 'Bhavesh Joshi ...   \n",
       "14023  Give satisfactory explanation or resign: Congr...   \n",
       "89010  Wanted Kejriwal's look for my Sarkar 3 charact...   \n",
       "34611  Very good news: Trump on N Korea's nuclear tes...   \n",
       "75833  Maha govt moves to SC seeking to criminalise b...   \n",
       "82488  'Fab Four' ready to protect tennis domination:...   \n",
       "57286  Manish Arora unveils 'All we need is love' art...   \n",
       "62231  Part of Housefull 4 will be set in Baahubali e...   \n",
       "93576  Telangana CM to work as coolie to bear cost fo...   \n",
       "70605  Godrej Agrovet IPO to raise up to Ã¢ÂÂ¹1200 c...   \n",
       "\n",
       "                                                    text  \n",
       "34975  The official teaser of Anil Kapoor's son Harsh...  \n",
       "14023  The Congress has said that Union Minister and ...  \n",
       "89010  Actor Manoj Bajpayee has revealed that the tea...  \n",
       "34611  US President Donald Trump has welcomed the ann...  \n",
       "75833  The Maharashtra government has moved the Supre...  \n",
       "82488  Eighteen-time Grand Slam champion Roger Federe...  \n",
       "57286  Fashion designer Manish Arora has unveiled his...  \n",
       "62231  Producer Sajid Nadiadwala has said a part of h...  \n",
       "93576  Telangana CM K Chandrasekhar Rao will work as ...  \n",
       "70605  Godrej Industries' agribusiness arm Godrej Agr...  "
      ]
     },
     "execution_count": 3,
     "metadata": {},
     "output_type": "execute_result"
    }
   ],
   "source": [
    "data.sample(10)"
   ]
  },
  {
   "cell_type": "code",
   "execution_count": 4,
   "id": "16cbc0e7",
   "metadata": {},
   "outputs": [
    {
     "name": "stdout",
     "output_type": "stream",
     "text": [
      "98401\n"
     ]
    }
   ],
   "source": [
    "print(len(data))"
   ]
  },
  {
   "cell_type": "code",
   "execution_count": 5,
   "id": "16c339a9",
   "metadata": {},
   "outputs": [
    {
     "data": {
      "text/html": [
       "<div>\n",
       "<style scoped>\n",
       "    .dataframe tbody tr th:only-of-type {\n",
       "        vertical-align: middle;\n",
       "    }\n",
       "\n",
       "    .dataframe tbody tr th {\n",
       "        vertical-align: top;\n",
       "    }\n",
       "\n",
       "    .dataframe thead th {\n",
       "        text-align: right;\n",
       "    }\n",
       "</style>\n",
       "<table border=\"1\" class=\"dataframe\">\n",
       "  <thead>\n",
       "    <tr style=\"text-align: right;\">\n",
       "      <th></th>\n",
       "      <th>headlines</th>\n",
       "      <th>text</th>\n",
       "    </tr>\n",
       "  </thead>\n",
       "  <tbody>\n",
       "    <tr>\n",
       "      <th>0</th>\n",
       "      <td>upGrad learner switches to career in ML &amp; Al w...</td>\n",
       "      <td>Saurav Kant, an alumnus of upGrad and IIIT-B's...</td>\n",
       "    </tr>\n",
       "    <tr>\n",
       "      <th>1</th>\n",
       "      <td>Delhi techie wins free food from Swiggy for on...</td>\n",
       "      <td>Kunal Shah's credit card bill payment platform...</td>\n",
       "    </tr>\n",
       "    <tr>\n",
       "      <th>2</th>\n",
       "      <td>New Zealand end Rohit Sharma-led India's 12-ma...</td>\n",
       "      <td>New Zealand defeated India by 8 wickets in the...</td>\n",
       "    </tr>\n",
       "    <tr>\n",
       "      <th>3</th>\n",
       "      <td>Aegon life iTerm insurance plan helps customer...</td>\n",
       "      <td>With Aegon Life iTerm Insurance plan, customer...</td>\n",
       "    </tr>\n",
       "    <tr>\n",
       "      <th>4</th>\n",
       "      <td>Have known Hirani for yrs, what if MeToo claim...</td>\n",
       "      <td>Speaking about the sexual harassment allegatio...</td>\n",
       "    </tr>\n",
       "  </tbody>\n",
       "</table>\n",
       "</div>"
      ],
      "text/plain": [
       "                                           headlines  \\\n",
       "0  upGrad learner switches to career in ML & Al w...   \n",
       "1  Delhi techie wins free food from Swiggy for on...   \n",
       "2  New Zealand end Rohit Sharma-led India's 12-ma...   \n",
       "3  Aegon life iTerm insurance plan helps customer...   \n",
       "4  Have known Hirani for yrs, what if MeToo claim...   \n",
       "\n",
       "                                                text  \n",
       "0  Saurav Kant, an alumnus of upGrad and IIIT-B's...  \n",
       "1  Kunal Shah's credit card bill payment platform...  \n",
       "2  New Zealand defeated India by 8 wickets in the...  \n",
       "3  With Aegon Life iTerm Insurance plan, customer...  \n",
       "4  Speaking about the sexual harassment allegatio...  "
      ]
     },
     "execution_count": 5,
     "metadata": {},
     "output_type": "execute_result"
    }
   ],
   "source": [
    "data.head()"
   ]
  },
  {
   "cell_type": "code",
   "execution_count": 7,
   "id": "3d7af561",
   "metadata": {},
   "outputs": [
    {
     "name": "stdout",
     "output_type": "stream",
     "text": [
      "Text 열에서 중복을 배제한 유일한 샘플의 수 : 98360\n",
      "headlines 열에서 중복을 배제한 유일한 샘플의 수 : 98280\n"
     ]
    }
   ],
   "source": [
    "print('Text 열에서 중복을 배제한 유일한 샘플의 수 :', data['text'].nunique())\n",
    "print('headlines 열에서 중복을 배제한 유일한 샘플의 수 :', data['headlines'].nunique())"
   ]
  },
  {
   "cell_type": "code",
   "execution_count": 8,
   "id": "7dc5720f",
   "metadata": {},
   "outputs": [
    {
     "name": "stdout",
     "output_type": "stream",
     "text": [
      "전체 샘플수 : 98360\n"
     ]
    }
   ],
   "source": [
    "data.drop_duplicates(subset = ['text'], inplace=True)\n",
    "print('전체 샘플수 :', (len(data)))"
   ]
  },
  {
   "cell_type": "code",
   "execution_count": 9,
   "id": "ea3b8ec4",
   "metadata": {},
   "outputs": [
    {
     "name": "stdout",
     "output_type": "stream",
     "text": [
      "headlines    0\n",
      "text         0\n",
      "dtype: int64\n"
     ]
    }
   ],
   "source": [
    "print(data.isnull().sum())"
   ]
  },
  {
   "cell_type": "code",
   "execution_count": 10,
   "id": "a48b5c37",
   "metadata": {},
   "outputs": [
    {
     "name": "stdout",
     "output_type": "stream",
     "text": [
      "정규화 사전의 수:  120\n"
     ]
    }
   ],
   "source": [
    "contractions = {\"ain't\": \"is not\", \"aren't\": \"are not\",\"can't\": \"cannot\", \"'cause\": \"because\", \"could've\": \"could have\", \"couldn't\": \"could not\",\n",
    "                           \"didn't\": \"did not\",  \"doesn't\": \"does not\", \"don't\": \"do not\", \"hadn't\": \"had not\", \"hasn't\": \"has not\", \"haven't\": \"have not\",\n",
    "                           \"he'd\": \"he would\",\"he'll\": \"he will\", \"he's\": \"he is\", \"how'd\": \"how did\", \"how'd'y\": \"how do you\", \"how'll\": \"how will\", \"how's\": \"how is\",\n",
    "                           \"I'd\": \"I would\", \"I'd've\": \"I would have\", \"I'll\": \"I will\", \"I'll've\": \"I will have\",\"I'm\": \"I am\", \"I've\": \"I have\", \"i'd\": \"i would\",\n",
    "                           \"i'd've\": \"i would have\", \"i'll\": \"i will\",  \"i'll've\": \"i will have\",\"i'm\": \"i am\", \"i've\": \"i have\", \"isn't\": \"is not\", \"it'd\": \"it would\",\n",
    "                           \"it'd've\": \"it would have\", \"it'll\": \"it will\", \"it'll've\": \"it will have\",\"it's\": \"it is\", \"let's\": \"let us\", \"ma'am\": \"madam\",\n",
    "                           \"mayn't\": \"may not\", \"might've\": \"might have\",\"mightn't\": \"might not\",\"mightn't've\": \"might not have\", \"must've\": \"must have\",\n",
    "                           \"mustn't\": \"must not\", \"mustn't've\": \"must not have\", \"needn't\": \"need not\", \"needn't've\": \"need not have\",\"o'clock\": \"of the clock\",\n",
    "                           \"oughtn't\": \"ought not\", \"oughtn't've\": \"ought not have\", \"shan't\": \"shall not\", \"sha'n't\": \"shall not\", \"shan't've\": \"shall not have\",\n",
    "                           \"she'd\": \"she would\", \"she'd've\": \"she would have\", \"she'll\": \"she will\", \"she'll've\": \"she will have\", \"she's\": \"she is\",\n",
    "                           \"should've\": \"should have\", \"shouldn't\": \"should not\", \"shouldn't've\": \"should not have\", \"so've\": \"so have\",\"so's\": \"so as\",\n",
    "                           \"this's\": \"this is\",\"that'd\": \"that would\", \"that'd've\": \"that would have\", \"that's\": \"that is\", \"there'd\": \"there would\",\n",
    "                           \"there'd've\": \"there would have\", \"there's\": \"there is\", \"here's\": \"here is\",\"they'd\": \"they would\", \"they'd've\": \"they would have\",\n",
    "                           \"they'll\": \"they will\", \"they'll've\": \"they will have\", \"they're\": \"they are\", \"they've\": \"they have\", \"to've\": \"to have\",\n",
    "                           \"wasn't\": \"was not\", \"we'd\": \"we would\", \"we'd've\": \"we would have\", \"we'll\": \"we will\", \"we'll've\": \"we will have\", \"we're\": \"we are\",\n",
    "                           \"we've\": \"we have\", \"weren't\": \"were not\", \"what'll\": \"what will\", \"what'll've\": \"what will have\", \"what're\": \"what are\",\n",
    "                           \"what's\": \"what is\", \"what've\": \"what have\", \"when's\": \"when is\", \"when've\": \"when have\", \"where'd\": \"where did\", \"where's\": \"where is\",\n",
    "                           \"where've\": \"where have\", \"who'll\": \"who will\", \"who'll've\": \"who will have\", \"who's\": \"who is\", \"who've\": \"who have\",\n",
    "                           \"why's\": \"why is\", \"why've\": \"why have\", \"will've\": \"will have\", \"won't\": \"will not\", \"won't've\": \"will not have\",\n",
    "                           \"would've\": \"would have\", \"wouldn't\": \"would not\", \"wouldn't've\": \"would not have\", \"y'all\": \"you all\",\n",
    "                           \"y'all'd\": \"you all would\",\"y'all'd've\": \"you all would have\",\"y'all're\": \"you all are\",\"y'all've\": \"you all have\",\n",
    "                           \"you'd\": \"you would\", \"you'd've\": \"you would have\", \"you'll\": \"you will\", \"you'll've\": \"you will have\",\n",
    "                           \"you're\": \"you are\", \"you've\": \"you have\"}\n",
    "\n",
    "print(\"정규화 사전의 수: \", len(contractions))"
   ]
  },
  {
   "cell_type": "code",
   "execution_count": 12,
   "id": "e73f88d8",
   "metadata": {},
   "outputs": [],
   "source": [
    "# 데이터 전처리 함수\n",
    "def preprocess_sentence(sentence, remove_stopwords=True):\n",
    "    sentence = sentence.lower() # 텍스트 소문자화\n",
    "    sentence = BeautifulSoup(sentence, \"lxml\").text # <br />, <a href = ...> 등의 html 태그 제거\n",
    "    sentence = re.sub(r'\\([^)]*\\)', '', sentence) # 괄호로 닫힌 문자열 (...) 제거 Ex) my husband (and myself!) for => my husband for\n",
    "    sentence = re.sub('\"','', sentence) # 쌍따옴표 \" 제거\n",
    "    sentence = ' '.join([contractions[t] if t in contractions else t for t in sentence.split(\" \")]) # 약어 정규화\n",
    "    sentence = re.sub(r\"'s\\b\",\"\", sentence) # 소유격 제거. Ex) roland's -> roland\n",
    "    sentence = re.sub(\"[^a-zA-Z]\", \" \", sentence) # 영어 외 문자(숫자, 특수문자 등) 공백으로 변환\n",
    "    sentence = re.sub('[m]{2,}', 'mm', sentence) # m이 3개 이상이면 2개로 변경. Ex) ummmmmmm yeah -> umm yeah\n",
    "    \n",
    "    # 불용어 제거 (Text)\n",
    "    if remove_stopwords:\n",
    "        tokens = ' '.join(word for word in sentence.split() if not word in stopwords.words('english') if len(word) > 1)\n",
    "    # 불용어 미제거 (Summary)\n",
    "    else:\n",
    "        tokens = ' '.join(word for word in sentence.split() if len(word) > 1)\n",
    "    return tokens"
   ]
  },
  {
   "cell_type": "code",
   "execution_count": 13,
   "id": "a95971a9",
   "metadata": {},
   "outputs": [
    {
     "name": "stdout",
     "output_type": "stream",
     "text": [
      "Text 전처리 후 결과:  0    saurav kant alumnus upgrad iiit pg program mac...\n",
      "1    kunal shah credit card bill payment platform c...\n",
      "2    new zealand defeated india wickets fourth odi ...\n",
      "3    aegon life iterm insurance plan customers enjo...\n",
      "4    speaking sexual harassment allegations rajkuma...\n",
      "Name: text, dtype: object\n"
     ]
    }
   ],
   "source": [
    "# 전체 Text 데이터에 대한 전처리\n",
    "clean_text = []\n",
    "\n",
    "clean_text = data['text'].apply(lambda x: preprocess_sentence(x))\n",
    "\n",
    "# 전처리 후 출력\n",
    "print(\"Text 전처리 후 결과: \", clean_text[:5])"
   ]
  },
  {
   "cell_type": "code",
   "execution_count": 14,
   "id": "0eb755a2",
   "metadata": {},
   "outputs": [
    {
     "name": "stdout",
     "output_type": "stream",
     "text": [
      "Text 전처리 후 결과:  0    upgrad learner switches to career in ml al wit...\n",
      "1    delhi techie wins free food from swiggy for on...\n",
      "2    new zealand end rohit sharma led india match w...\n",
      "3    aegon life iterm insurance plan helps customer...\n",
      "4    have known hirani for yrs what if metoo claims...\n",
      "Name: headlines, dtype: object\n"
     ]
    }
   ],
   "source": [
    "# 전체 headlines 데이터에 대한 전처리 \n",
    "clean_headlines = []\n",
    "\n",
    "clean_headlines = data['headlines'].apply(lambda x: preprocess_sentence(x, False))\n",
    "\n",
    "print(\"Text 전처리 후 결과: \", clean_headlines[:5])"
   ]
  },
  {
   "cell_type": "code",
   "execution_count": 20,
   "id": "9a827c95",
   "metadata": {},
   "outputs": [
    {
     "name": "stdout",
     "output_type": "stream",
     "text": [
      "전체 샘플수 : 98360\n",
      "                                               headlines  \\\n",
      "0      upgrad learner switches to career in ml al wit...   \n",
      "1      delhi techie wins free food from swiggy for on...   \n",
      "2      new zealand end rohit sharma led india match w...   \n",
      "3      aegon life iterm insurance plan helps customer...   \n",
      "4      have known hirani for yrs what if metoo claims...   \n",
      "...                                                  ...   \n",
      "98396  crpf jawan axed to death by maoists in chhatti...   \n",
      "98397  first song from sonakshi sinha noor titled uff...   \n",
      "98398              the matrix film to get reboot reports   \n",
      "98399  snoop dogg aims gun at clown dressed as trump ...   \n",
      "98400  madhesi morcha withdraws support to nepalese g...   \n",
      "\n",
      "                                                    text  \n",
      "0      saurav kant alumnus upgrad iiit pg program mac...  \n",
      "1      kunal shah credit card bill payment platform c...  \n",
      "2      new zealand defeated india wickets fourth odi ...  \n",
      "3      aegon life iterm insurance plan customers enjo...  \n",
      "4      speaking sexual harassment allegations rajkuma...  \n",
      "...                                                  ...  \n",
      "98396  crpf jawan tuesday axed death sharp edged weap...  \n",
      "98397  uff yeh first song sonakshi sinha starrer upco...  \n",
      "98398  according reports new version science fiction ...  \n",
      "98399  new music video shows rapper snoop dogg aiming...  \n",
      "98400  madhesi morcha alliance seven political partie...  \n",
      "\n",
      "[98360 rows x 2 columns]\n"
     ]
    }
   ],
   "source": [
    "data['text'] = clean_text\n",
    "data['headlines'] = clean_headlines\n",
    "\n",
    "# 빈 값을 Null 값으로 변환\n",
    "data.replace('', np.nan, inplace=True)\n",
    "data.dropna(axis=0, inplace=True)\n",
    "print('전체 샘플수 :', (len(data)))\n",
    "print(data)"
   ]
  },
  {
   "cell_type": "code",
   "execution_count": 25,
   "id": "0fc90950",
   "metadata": {},
   "outputs": [
    {
     "name": "stdout",
     "output_type": "stream",
     "text": [
      "텍스트의 최소 길이 : 1\n",
      "텍스트의 최대 길이 : 60\n",
      "텍스트의 평균 길이 : 35.09968483123221\n",
      "요약의 최소 길이 : 1\n",
      "요약의 최대 길이 : 16\n",
      "요약의 평균 길이 : 9.299532330215534\n"
     ]
    },
    {
     "data": {
      "image/png": "[encoded data removed]",
      "text/plain": [
       "<Figure size 432x288 with 2 Axes>"
      ]
     },
     "metadata": {
      "needs_background": "light"
     },
     "output_type": "display_data"
    },
    {
     "data": {
      "image/png": "[encoded data removed]",
      "text/plain": [
       "<Figure size 432x288 with 1 Axes>"
      ]
     },
     "metadata": {
      "needs_background": "light"
     },
     "output_type": "display_data"
    },
    {
     "data": {
      "image/png": "[encoded data removed]",
      "text/plain": [
       "<Figure size 432x288 with 1 Axes>"
      ]
     },
     "metadata": {
      "needs_background": "light"
     },
     "output_type": "display_data"
    }
   ],
   "source": [
    "# 길이 분포 출력\n",
    "import matplotlib.pyplot as plt\n",
    "\n",
    "text_len = [len(s.split()) for s in data['text']]\n",
    "headlines_len = [len(s.split()) for s in data['headlines']]\n",
    "\n",
    "print('텍스트의 최소 길이 : {}'.format(np.min(text_len)))\n",
    "print('텍스트의 최대 길이 : {}'.format(np.max(text_len)))\n",
    "print('텍스트의 평균 길이 : {}'.format(np.mean(text_len)))\n",
    "print('요약의 최소 길이 : {}'.format(np.min(headlines_len)))\n",
    "print('요약의 최대 길이 : {}'.format(np.max(headlines_len)))\n",
    "print('요약의 평균 길이 : {}'.format(np.mean(headlines_len)))\n",
    "\n",
    "plt.subplot(1,2,1)\n",
    "plt.boxplot(text_len)\n",
    "plt.title('text')\n",
    "plt.subplot(1,2,2)\n",
    "plt.boxplot(headlines_len)\n",
    "plt.title('headlines')\n",
    "plt.tight_layout()\n",
    "plt.show()\n",
    "\n",
    "plt.title('Text')\n",
    "plt.hist(text_len, bins = 40)\n",
    "plt.xlabel('length of samples')\n",
    "plt.ylabel('number of samples')\n",
    "plt.show()\n",
    "\n",
    "plt.title('headlines')\n",
    "plt.hist(headlines_len, bins = 40)\n",
    "plt.xlabel('length of samples')\n",
    "plt.ylabel('number of samples')\n",
    "plt.show()"
   ]
  },
  {
   "cell_type": "code",
   "execution_count": 31,
   "id": "a9d6057c",
   "metadata": {},
   "outputs": [],
   "source": [
    "text_max_len = 40\n",
    "text_min_len = 26\n",
    "\n",
    "summary_max_len = 13\n",
    "summary_min_len = 6"
   ]
  },
  {
   "cell_type": "code",
   "execution_count": 33,
   "id": "8fd39f8f",
   "metadata": {},
   "outputs": [],
   "source": [
    "def up_len(max_len, nested_list):\n",
    "  cnt = 0\n",
    "  for s in nested_list:\n",
    "    if(len(s.split()) <= max_len):\n",
    "        cnt = cnt + 1\n",
    "  print('전체 샘플 중 길이가 %s 이하인 샘플의 비율: %s'%(max_len, (cnt / len(nested_list))))\n",
    "\n",
    "def down_len(min_len, nested_list):\n",
    "  cnt = 0\n",
    "  for s in nested_list:\n",
    "    if(len(s.split()) > min_len):\n",
    "        cnt = cnt + 1\n",
    "  print('전체 샘플 중 길이가 %s 초과인 샘플의 비율: %s'%(min_len, (cnt / len(nested_list))))"
   ]
  },
  {
   "cell_type": "code",
   "execution_count": 34,
   "id": "e808f867",
   "metadata": {},
   "outputs": [
    {
     "name": "stdout",
     "output_type": "stream",
     "text": [
      "전체 샘플 중 길이가 40 이하인 샘플의 비율: 0.9238714924766165\n",
      "전체 샘플 중 길이가 26 초과인 샘플의 비율: 0.9879117527450183\n",
      "전체 샘플 중 길이가 13 이하인 샘플의 비율: 0.9981699877999186\n",
      "전체 샘플 중 길이가 6 초과인 샘플의 비율: 0.9803375355835705\n"
     ]
    }
   ],
   "source": [
    "up_len(text_max_len, data['text'])\n",
    "down_len(text_min_len, data['text'])\n",
    "up_len(summary_max_len, data['headlines'])\n",
    "down_len(summary_min_len, data['headlines'])"
   ]
  },
  {
   "cell_type": "code",
   "execution_count": 38,
   "id": "4ad83efd",
   "metadata": {},
   "outputs": [
    {
     "name": "stdout",
     "output_type": "stream",
     "text": [
      "전체 샘플수 : 87747\n"
     ]
    }
   ],
   "source": [
    "data = data[\n",
    "    data.apply(lambda x: ((len(x[\"text\"].split()) > text_min_len) and (len(x[\"text\"].split()) <= text_max_len)) \n",
    "               and ((len(x[\"headlines\"].split()) <= summary_max_len)) and (len(x[\"headlines\"].split()) > summary_min_len), axis=1)\n",
    "]\n",
    "\n",
    "print('전체 샘플수 :', (len(data)))"
   ]
  },
  {
   "cell_type": "code",
   "execution_count": 39,
   "id": "b34e6e5d",
   "metadata": {},
   "outputs": [
    {
     "data": {
      "text/html": [
       "<div>\n",
       "<style scoped>\n",
       "    .dataframe tbody tr th:only-of-type {\n",
       "        vertical-align: middle;\n",
       "    }\n",
       "\n",
       "    .dataframe tbody tr th {\n",
       "        vertical-align: top;\n",
       "    }\n",
       "\n",
       "    .dataframe thead th {\n",
       "        text-align: right;\n",
       "    }\n",
       "</style>\n",
       "<table border=\"1\" class=\"dataframe\">\n",
       "  <thead>\n",
       "    <tr style=\"text-align: right;\">\n",
       "      <th></th>\n",
       "      <th>headlines</th>\n",
       "      <th>text</th>\n",
       "      <th>decoder_input</th>\n",
       "      <th>decoder_target</th>\n",
       "    </tr>\n",
       "  </thead>\n",
       "  <tbody>\n",
       "    <tr>\n",
       "      <th>0</th>\n",
       "      <td>upgrad learner switches to career in ml al wit...</td>\n",
       "      <td>saurav kant alumnus upgrad iiit pg program mac...</td>\n",
       "      <td>sostoken upgrad learner switches to career in ...</td>\n",
       "      <td>upgrad learner switches to career in ml al wit...</td>\n",
       "    </tr>\n",
       "    <tr>\n",
       "      <th>2</th>\n",
       "      <td>new zealand end rohit sharma led india match w...</td>\n",
       "      <td>new zealand defeated india wickets fourth odi ...</td>\n",
       "      <td>sostoken new zealand end rohit sharma led indi...</td>\n",
       "      <td>new zealand end rohit sharma led india match w...</td>\n",
       "    </tr>\n",
       "    <tr>\n",
       "      <th>3</th>\n",
       "      <td>aegon life iterm insurance plan helps customer...</td>\n",
       "      <td>aegon life iterm insurance plan customers enjo...</td>\n",
       "      <td>sostoken aegon life iterm insurance plan helps...</td>\n",
       "      <td>aegon life iterm insurance plan helps customer...</td>\n",
       "    </tr>\n",
       "    <tr>\n",
       "      <th>4</th>\n",
       "      <td>have known hirani for yrs what if metoo claims...</td>\n",
       "      <td>speaking sexual harassment allegations rajkuma...</td>\n",
       "      <td>sostoken have known hirani for yrs what if met...</td>\n",
       "      <td>have known hirani for yrs what if metoo claims...</td>\n",
       "    </tr>\n",
       "    <tr>\n",
       "      <th>5</th>\n",
       "      <td>rahat fateh ali khan denies getting notice for...</td>\n",
       "      <td>pakistani singer rahat fateh ali khan denied r...</td>\n",
       "      <td>sostoken rahat fateh ali khan denies getting n...</td>\n",
       "      <td>rahat fateh ali khan denies getting notice for...</td>\n",
       "    </tr>\n",
       "  </tbody>\n",
       "</table>\n",
       "</div>"
      ],
      "text/plain": [
       "                                           headlines  \\\n",
       "0  upgrad learner switches to career in ml al wit...   \n",
       "2  new zealand end rohit sharma led india match w...   \n",
       "3  aegon life iterm insurance plan helps customer...   \n",
       "4  have known hirani for yrs what if metoo claims...   \n",
       "5  rahat fateh ali khan denies getting notice for...   \n",
       "\n",
       "                                                text  \\\n",
       "0  saurav kant alumnus upgrad iiit pg program mac...   \n",
       "2  new zealand defeated india wickets fourth odi ...   \n",
       "3  aegon life iterm insurance plan customers enjo...   \n",
       "4  speaking sexual harassment allegations rajkuma...   \n",
       "5  pakistani singer rahat fateh ali khan denied r...   \n",
       "\n",
       "                                       decoder_input  \\\n",
       "0  sostoken upgrad learner switches to career in ...   \n",
       "2  sostoken new zealand end rohit sharma led indi...   \n",
       "3  sostoken aegon life iterm insurance plan helps...   \n",
       "4  sostoken have known hirani for yrs what if met...   \n",
       "5  sostoken rahat fateh ali khan denies getting n...   \n",
       "\n",
       "                                      decoder_target  \n",
       "0  upgrad learner switches to career in ml al wit...  \n",
       "2  new zealand end rohit sharma led india match w...  \n",
       "3  aegon life iterm insurance plan helps customer...  \n",
       "4  have known hirani for yrs what if metoo claims...  \n",
       "5  rahat fateh ali khan denies getting notice for...  "
      ]
     },
     "execution_count": 39,
     "metadata": {},
     "output_type": "execute_result"
    }
   ],
   "source": [
    "data['decoder_input'] = data['headlines'].apply(lambda x : 'sostoken '+ x)\n",
    "data['decoder_target'] = data['headlines'].apply(lambda x : x + ' eostoken')\n",
    "data.head()"
   ]
  },
  {
   "cell_type": "code",
   "execution_count": 90,
   "id": "4218acf5",
   "metadata": {},
   "outputs": [],
   "source": [
    "encoder_input = np.array(data['text']) # 인코더의 입력\n",
    "decoder_input = np.array(data['decoder_input']) # 디코더의 입력\n",
    "decoder_target = np.array(data['decoder_target']) # 디코더의 레이블"
   ]
  },
  {
   "cell_type": "code",
   "execution_count": 91,
   "id": "3f5a7fc0",
   "metadata": {},
   "outputs": [
    {
     "name": "stdout",
     "output_type": "stream",
     "text": [
      "[  446 58249 56147 ... 14823 31673 67749]\n"
     ]
    }
   ],
   "source": [
    "indices = np.arange(encoder_input.shape[0])\n",
    "np.random.shuffle(indices)\n",
    "print(indices)"
   ]
  },
  {
   "cell_type": "code",
   "execution_count": 92,
   "id": "93b65227",
   "metadata": {},
   "outputs": [],
   "source": [
    "encoder_input = encoder_input[indices]\n",
    "decoder_input = decoder_input[indices]\n",
    "decoder_target = decoder_target[indices]"
   ]
  },
  {
   "cell_type": "code",
   "execution_count": 93,
   "id": "457e726e",
   "metadata": {},
   "outputs": [
    {
     "name": "stdout",
     "output_type": "stream",
     "text": [
      "테스트 데이터의 수 : 17549\n"
     ]
    }
   ],
   "source": [
    "n_of_val = int(len(encoder_input)*0.2)\n",
    "print('테스트 데이터의 수 :', n_of_val)"
   ]
  },
  {
   "cell_type": "code",
   "execution_count": 94,
   "id": "1f066160",
   "metadata": {},
   "outputs": [
    {
     "name": "stdout",
     "output_type": "stream",
     "text": [
      "훈련 데이터의 개수 : 70198\n",
      "훈련 레이블의 개수 : 70198\n",
      "테스트 데이터의 개수 : 17549\n",
      "테스트 레이블의 개수 : 17549\n"
     ]
    }
   ],
   "source": [
    "encoder_input_train = encoder_input[:-n_of_val]\n",
    "decoder_input_train = decoder_input[:-n_of_val]\n",
    "decoder_target_train = decoder_target[:-n_of_val]\n",
    "\n",
    "encoder_input_test = encoder_input[-n_of_val:]\n",
    "decoder_input_test = decoder_input[-n_of_val:]\n",
    "decoder_target_test = decoder_target[-n_of_val:]\n",
    "\n",
    "print('훈련 데이터의 개수 :', len(encoder_input_train))\n",
    "print('훈련 레이블의 개수 :', len(decoder_input_train))\n",
    "print('테스트 데이터의 개수 :', len(encoder_input_test))\n",
    "print('테스트 레이블의 개수 :', len(decoder_input_test))"
   ]
  },
  {
   "cell_type": "code",
   "execution_count": 95,
   "id": "48897d19",
   "metadata": {},
   "outputs": [],
   "source": [
    "src_tokenizer = Tokenizer() # 토크나이저 정의\n",
    "src_tokenizer.fit_on_texts(encoder_input_train) # 입력된 데이터로부터 단어 집합 생성"
   ]
  },
  {
   "cell_type": "code",
   "execution_count": 96,
   "id": "5e7d57fc",
   "metadata": {},
   "outputs": [
    {
     "name": "stdout",
     "output_type": "stream",
     "text": [
      "단어 집합(vocabulary)의 크기 : 64985\n",
      "등장 빈도가 7번 이하인 희귀 단어의 수: 45655\n",
      "단어 집합에서 희귀 단어를 제외시킬 경우의 단어 집합의 크기 19330\n",
      "단어 집합에서 희귀 단어의 비율: 70.25467415557436\n",
      "전체 등장 빈도에서 희귀 단어 등장 빈도 비율: 4.110534965477873\n"
     ]
    }
   ],
   "source": [
    "threshold = 8\n",
    "total_cnt = len(src_tokenizer.word_index) # 단어의 수\n",
    "rare_cnt = 0 # 등장 빈도수가 threshold보다 작은 단어의 개수를 카운트\n",
    "total_freq = 0 # 훈련 데이터의 전체 단어 빈도수 총 합\n",
    "rare_freq = 0 # 등장 빈도수가 threshold보다 작은 단어의 등장 빈도수의 총 합\n",
    "\n",
    "# 단어와 빈도수의 쌍(pair)을 key와 value로 받는다.\n",
    "for key, value in src_tokenizer.word_counts.items():\n",
    "    total_freq = total_freq + value\n",
    "\n",
    "    # 단어의 등장 빈도수가 threshold보다 작으면\n",
    "    if(value < threshold):\n",
    "        rare_cnt = rare_cnt + 1\n",
    "        rare_freq = rare_freq + value\n",
    "\n",
    "print('단어 집합(vocabulary)의 크기 :', total_cnt)\n",
    "print('등장 빈도가 %s번 이하인 희귀 단어의 수: %s'%(threshold - 1, rare_cnt))\n",
    "print('단어 집합에서 희귀 단어를 제외시킬 경우의 단어 집합의 크기 %s'%(total_cnt - rare_cnt))\n",
    "print(\"단어 집합에서 희귀 단어의 비율:\", (rare_cnt / total_cnt)*100)\n",
    "print(\"전체 등장 빈도에서 희귀 단어 등장 빈도 비율:\", (rare_freq / total_freq)*100)"
   ]
  },
  {
   "cell_type": "code",
   "execution_count": 97,
   "id": "b839ca12",
   "metadata": {},
   "outputs": [],
   "source": [
    "src_vocab = 10000\n",
    "src_tokenizer = Tokenizer(num_words=src_vocab) # 단어 집합의 크기를 8,000으로 제한\n",
    "src_tokenizer.fit_on_texts(encoder_input_train) # 단어 집합 재생성"
   ]
  },
  {
   "cell_type": "code",
   "execution_count": 98,
   "id": "cedae626",
   "metadata": {},
   "outputs": [
    {
     "name": "stdout",
     "output_type": "stream",
     "text": [
      "[[375, 48, 423, 6158, 140, 2412, 3046, 1933, 113, 2, 140, 258, 300, 3463, 6088, 636, 2279, 3561, 7075, 213, 512, 1002, 828, 2842, 162, 114, 5817, 215, 2384, 198], [5, 16, 128, 44, 1257, 124, 231, 124, 3241, 384, 1547, 4229, 44, 885, 216, 554, 64, 74, 1170, 300, 502, 2260, 2826, 384, 124, 1361, 3, 1290, 885, 216, 74], [77, 631, 2398, 3847, 2245, 88, 167, 131, 6758, 1270, 738, 1857, 862, 185, 1956, 8760, 9716, 3729, 4862, 147, 5052, 5053, 1646, 7287, 88, 3847, 88, 366, 1362]]\n"
     ]
    }
   ],
   "source": [
    "# 텍스트 시퀀스를 정수 시퀀스로 변환\n",
    "encoder_input_train = src_tokenizer.texts_to_sequences(encoder_input_train) \n",
    "encoder_input_test = src_tokenizer.texts_to_sequences(encoder_input_test)\n",
    "\n",
    "# 잘 진행되었는지 샘플 출력\n",
    "print(encoder_input_train[:3])"
   ]
  },
  {
   "cell_type": "code",
   "execution_count": 99,
   "id": "84f6ece7",
   "metadata": {},
   "outputs": [],
   "source": [
    "tar_tokenizer = Tokenizer()\n",
    "tar_tokenizer.fit_on_texts(decoder_input_train)"
   ]
  },
  {
   "cell_type": "code",
   "execution_count": 100,
   "id": "fdbf7717",
   "metadata": {},
   "outputs": [
    {
     "name": "stdout",
     "output_type": "stream",
     "text": [
      "단어 집합(vocabulary)의 크기 : 28567\n",
      "등장 빈도가 3번 이하인 희귀 단어의 수: 16121\n",
      "단어 집합에서 희귀 단어를 제외시킬 경우의 단어 집합의 크기 12446\n",
      "단어 집합에서 희귀 단어의 비율: 56.43224699828473\n",
      "전체 등장 빈도에서 희귀 단어 등장 빈도 비율: 3.355378745874224\n"
     ]
    }
   ],
   "source": [
    "threshold = 4\n",
    "total_cnt = len(tar_tokenizer.word_index) # 단어의 수\n",
    "rare_cnt = 0 # 등장 빈도수가 threshold보다 작은 단어의 개수를 카운트\n",
    "total_freq = 0 # 훈련 데이터의 전체 단어 빈도수 총 합\n",
    "rare_freq = 0 # 등장 빈도수가 threshold보다 작은 단어의 등장 빈도수의 총 합\n",
    "\n",
    "# 단어와 빈도수의 쌍(pair)을 key와 value로 받는다.\n",
    "for key, value in tar_tokenizer.word_counts.items():\n",
    "    total_freq = total_freq + value\n",
    "\n",
    "    # 단어의 등장 빈도수가 threshold보다 작으면\n",
    "    if(value < threshold):\n",
    "        rare_cnt = rare_cnt + 1\n",
    "        rare_freq = rare_freq + value\n",
    "\n",
    "print('단어 집합(vocabulary)의 크기 :', total_cnt)\n",
    "print('등장 빈도가 %s번 이하인 희귀 단어의 수: %s'%(threshold - 1, rare_cnt))\n",
    "print('단어 집합에서 희귀 단어를 제외시킬 경우의 단어 집합의 크기 %s'%(total_cnt - rare_cnt))\n",
    "print(\"단어 집합에서 희귀 단어의 비율:\", (rare_cnt / total_cnt)*100)\n",
    "print(\"전체 등장 빈도에서 희귀 단어 등장 빈도 비율:\", (rare_freq / total_freq)*100)"
   ]
  },
  {
   "cell_type": "code",
   "execution_count": 101,
   "id": "fa159089",
   "metadata": {},
   "outputs": [
    {
     "name": "stdout",
     "output_type": "stream",
     "text": [
      "input\n",
      "input  [[1, 333, 298, 4827, 121, 72, 2439], [1, 787, 31, 358, 1077, 2120, 7, 2224, 15, 2346, 397], [1, 2046, 495, 5, 81, 1969, 7, 407, 4828, 238], [1, 27, 20, 2911, 6, 60, 85, 106, 28, 8], [1, 1885, 3, 677, 25, 8, 7, 1820]]\n",
      "target\n",
      "decoder  [[333, 298, 4827, 121, 72, 2439, 2], [787, 31, 358, 1077, 2120, 7, 2224, 15, 2346, 397, 2], [2046, 495, 5, 81, 1969, 7, 407, 4828, 238, 2], [27, 20, 2911, 6, 60, 85, 106, 28, 8, 2], [1885, 3, 677, 25, 8, 7, 1820, 2]]\n"
     ]
    }
   ],
   "source": [
    "tar_vocab = 5000\n",
    "tar_tokenizer = Tokenizer(num_words=tar_vocab) \n",
    "tar_tokenizer.fit_on_texts(decoder_input_train)\n",
    "tar_tokenizer.fit_on_texts(decoder_target_train)\n",
    "\n",
    "# 텍스트 시퀀스를 정수 시퀀스로 변환\n",
    "decoder_input_train = tar_tokenizer.texts_to_sequences(decoder_input_train) \n",
    "decoder_target_train = tar_tokenizer.texts_to_sequences(decoder_target_train)\n",
    "decoder_input_test = tar_tokenizer.texts_to_sequences(decoder_input_test)\n",
    "decoder_target_test = tar_tokenizer.texts_to_sequences(decoder_target_test)\n",
    "\n",
    "# 잘 변환되었는지 확인\n",
    "print('input')\n",
    "print('input ',decoder_input_train[:5])\n",
    "print('target')\n",
    "print('decoder ',decoder_target_train[:5])"
   ]
  },
  {
   "cell_type": "code",
   "execution_count": 102,
   "id": "7b1bcb5f",
   "metadata": {},
   "outputs": [
    {
     "name": "stdout",
     "output_type": "stream",
     "text": [
      "삭제할 훈련 데이터의 개수 : 0\n",
      "삭제할 테스트 데이터의 개수 : 0\n",
      "훈련 데이터의 개수 : 70198\n",
      "훈련 레이블의 개수 : 70198\n",
      "테스트 데이터의 개수 : 17549\n",
      "테스트 레이블의 개수 : 17549\n"
     ]
    }
   ],
   "source": [
    "drop_train = [index for index, sentence in enumerate(decoder_input_train) if len(sentence) == 1]\n",
    "drop_test = [index for index, sentence in enumerate(decoder_input_test) if len(sentence) == 1]\n",
    "\n",
    "print('삭제할 훈련 데이터의 개수 :', len(drop_train))\n",
    "print('삭제할 테스트 데이터의 개수 :', len(drop_test))\n",
    "\n",
    "encoder_input_train = [sentence for index, sentence in enumerate(encoder_input_train) if index not in drop_train]\n",
    "decoder_input_train = [sentence for index, sentence in enumerate(decoder_input_train) if index not in drop_train]\n",
    "decoder_target_train = [sentence for index, sentence in enumerate(decoder_target_train) if index not in drop_train]\n",
    "\n",
    "encoder_input_test = [sentence for index, sentence in enumerate(encoder_input_test) if index not in drop_test]\n",
    "decoder_input_test = [sentence for index, sentence in enumerate(decoder_input_test) if index not in drop_test]\n",
    "decoder_target_test = [sentence for index, sentence in enumerate(decoder_target_test) if index not in drop_test]\n",
    "\n",
    "print('훈련 데이터의 개수 :', len(encoder_input_train))\n",
    "print('훈련 레이블의 개수 :', len(decoder_input_train))\n",
    "print('테스트 데이터의 개수 :', len(encoder_input_test))\n",
    "print('테스트 레이블의 개수 :', len(decoder_input_test))"
   ]
  },
  {
   "cell_type": "code",
   "execution_count": 103,
   "id": "f2198a04",
   "metadata": {},
   "outputs": [],
   "source": [
    "encoder_input_train = pad_sequences(encoder_input_train, maxlen=text_max_len, padding='post')\n",
    "encoder_input_test = pad_sequences(encoder_input_test, maxlen=text_max_len, padding='post')\n",
    "decoder_input_train = pad_sequences(decoder_input_train, maxlen=summary_max_len, padding='post')\n",
    "decoder_target_train = pad_sequences(decoder_target_train, maxlen=summary_max_len, padding='post')\n",
    "decoder_input_test = pad_sequences(decoder_input_test, maxlen=summary_max_len, padding='post')\n",
    "decoder_target_test = pad_sequences(decoder_target_test, maxlen=summary_max_len, padding='post')"
   ]
  },
  {
   "cell_type": "code",
   "execution_count": 104,
   "id": "33e64b13",
   "metadata": {},
   "outputs": [
    {
     "name": "stdout",
     "output_type": "stream",
     "text": [
      "WARNING:tensorflow:Layer lstm_7 will not use cuDNN kernels since it doesn't meet the criteria. It will use a generic GPU kernel as fallback when running on GPU.\n",
      "WARNING:tensorflow:Layer lstm_8 will not use cuDNN kernels since it doesn't meet the criteria. It will use a generic GPU kernel as fallback when running on GPU.\n",
      "WARNING:tensorflow:Layer lstm_9 will not use cuDNN kernels since it doesn't meet the criteria. It will use a generic GPU kernel as fallback when running on GPU.\n"
     ]
    }
   ],
   "source": [
    "from tensorflow.keras.layers import Input, LSTM, Embedding, Dense, Concatenate, TimeDistributed\n",
    "from tensorflow.keras.models import Model\n",
    "from tensorflow.keras.callbacks import EarlyStopping, ModelCheckpoint\n",
    "\n",
    "\n",
    "# 인코더 설계 시작\n",
    "embedding_dim = 128\n",
    "hidden_size = 512\n",
    "\n",
    "# 인코더\n",
    "encoder_inputs = Input(shape=(text_max_len,))\n",
    "\n",
    "# 인코더의 임베딩 층\n",
    "enc_emb = Embedding(src_vocab, embedding_dim)(encoder_inputs)\n",
    "\n",
    "# 인코더의 LSTM 1\n",
    "encoder_lstm1 = LSTM(hidden_size, return_sequences=True, return_state=True ,dropout = 0.3, recurrent_dropout = 0.3)\n",
    "# encoder_lstm1 = LSTM(hidden_size, return_sequences=True, return_state=True ,dropout = 0.3)\n",
    "encoder_output1, state_h1, state_c1 = encoder_lstm1(enc_emb)\n",
    "\n",
    "# 인코더의 LSTM 2\n",
    "encoder_lstm2 = LSTM(hidden_size, return_sequences=True, return_state=True ,dropout = 0.3, recurrent_dropout = 0.3)\n",
    "# encoder_lstm2 = LSTM(hidden_size, return_sequences=True, return_state=True, dropout=0.3)\n",
    "encoder_output2, state_h2, state_c2 = encoder_lstm2(encoder_output1)\n",
    "\n",
    "# 인코더의 LSTM 3\n",
    "encoder_lstm3 = LSTM(hidden_size, return_sequences=True, return_state=True ,dropout = 0.3, recurrent_dropout = 0.3)\n",
    "# encoder_lstm3 = LSTM(hidden_size, return_sequences=True, return_state=True, dropout=0.3)\n",
    "encoder_output3, state_h3, state_c3 = encoder_lstm3(encoder_output2)"
   ]
  },
  {
   "cell_type": "code",
   "execution_count": 105,
   "id": "623ce043",
   "metadata": {},
   "outputs": [
    {
     "name": "stdout",
     "output_type": "stream",
     "text": [
      "WARNING:tensorflow:Layer lstm_10 will not use cuDNN kernels since it doesn't meet the criteria. It will use a generic GPU kernel as fallback when running on GPU.\n"
     ]
    }
   ],
   "source": [
    "# 디코더 설계\n",
    "decoder_inputs = Input(shape=(None,))\n",
    "\n",
    "# 디코더의 임베딩 층\n",
    "dec_emb_layer = Embedding(tar_vocab, embedding_dim)\n",
    "dec_emb = dec_emb_layer(decoder_inputs)\n",
    "\n",
    "# 인코더 출력 설정 (마지막 LSTM 층의 출력 사용)\n",
    "encoder_outputs = encoder_output3  # encoder_outputs 정의 추가 ✅\n",
    "\n",
    "# 디코더의 LSTM\n",
    "decoder_lstm = LSTM(hidden_size, return_sequences=True, return_state=True, dropout=0.4, recurrent_dropout=0.2)\n",
    "# decoder_lstm = LSTM(hidden_size, return_sequences=True, return_state=True, dropout=0.4)\n",
    "decoder_outputs, _, _ = decoder_lstm(dec_emb, initial_state=[state_h3, state_c3])"
   ]
  },
  {
   "cell_type": "code",
   "execution_count": 106,
   "id": "3c7613f5",
   "metadata": {},
   "outputs": [
    {
     "name": "stdout",
     "output_type": "stream",
     "text": [
      "Model: \"model_4\"\n",
      "__________________________________________________________________________________________________\n",
      "Layer (type)                    Output Shape         Param #     Connected to                     \n",
      "==================================================================================================\n",
      "input_8 (InputLayer)            [(None, 40)]         0                                            \n",
      "__________________________________________________________________________________________________\n",
      "embedding_4 (Embedding)         (None, 40, 128)      1280000     input_8[0][0]                    \n",
      "__________________________________________________________________________________________________\n",
      "lstm_7 (LSTM)                   [(None, 40, 512), (N 1312768     embedding_4[0][0]                \n",
      "__________________________________________________________________________________________________\n",
      "input_9 (InputLayer)            [(None, None)]       0                                            \n",
      "__________________________________________________________________________________________________\n",
      "lstm_8 (LSTM)                   [(None, 40, 512), (N 2099200     lstm_7[0][0]                     \n",
      "__________________________________________________________________________________________________\n",
      "embedding_5 (Embedding)         (None, None, 128)    640000      input_9[0][0]                    \n",
      "__________________________________________________________________________________________________\n",
      "lstm_9 (LSTM)                   [(None, 40, 512), (N 2099200     lstm_8[0][0]                     \n",
      "__________________________________________________________________________________________________\n",
      "lstm_10 (LSTM)                  [(None, None, 512),  1312768     embedding_5[0][0]                \n",
      "                                                                 lstm_9[0][1]                     \n",
      "                                                                 lstm_9[0][2]                     \n",
      "__________________________________________________________________________________________________\n",
      "dense_2 (Dense)                 (None, None, 5000)   2565000     lstm_10[0][0]                    \n",
      "==================================================================================================\n",
      "Total params: 11,308,936\n",
      "Trainable params: 11,308,936\n",
      "Non-trainable params: 0\n",
      "__________________________________________________________________________________________________\n"
     ]
    }
   ],
   "source": [
    "# 디코더의 출력층\n",
    "decoder_softmax_layer = Dense(tar_vocab, activation='softmax')\n",
    "decoder_softmax_outputs = decoder_softmax_layer(decoder_outputs) \n",
    "\n",
    "# 모델 정의\n",
    "model = Model([encoder_inputs, decoder_inputs], decoder_softmax_outputs)\n",
    "model.summary()"
   ]
  },
  {
   "cell_type": "code",
   "execution_count": 107,
   "id": "16fde8f3",
   "metadata": {},
   "outputs": [
    {
     "name": "stdout",
     "output_type": "stream",
     "text": [
      "Model: \"model_5\"\n",
      "__________________________________________________________________________________________________\n",
      "Layer (type)                    Output Shape         Param #     Connected to                     \n",
      "==================================================================================================\n",
      "input_8 (InputLayer)            [(None, 40)]         0                                            \n",
      "__________________________________________________________________________________________________\n",
      "embedding_4 (Embedding)         (None, 40, 128)      1280000     input_8[0][0]                    \n",
      "__________________________________________________________________________________________________\n",
      "lstm_7 (LSTM)                   [(None, 40, 512), (N 1312768     embedding_4[0][0]                \n",
      "__________________________________________________________________________________________________\n",
      "input_9 (InputLayer)            [(None, None)]       0                                            \n",
      "__________________________________________________________________________________________________\n",
      "lstm_8 (LSTM)                   [(None, 40, 512), (N 2099200     lstm_7[0][0]                     \n",
      "__________________________________________________________________________________________________\n",
      "embedding_5 (Embedding)         (None, None, 128)    640000      input_9[0][0]                    \n",
      "__________________________________________________________________________________________________\n",
      "lstm_9 (LSTM)                   [(None, 40, 512), (N 2099200     lstm_8[0][0]                     \n",
      "__________________________________________________________________________________________________\n",
      "lstm_10 (LSTM)                  [(None, None, 512),  1312768     embedding_5[0][0]                \n",
      "                                                                 lstm_9[0][1]                     \n",
      "                                                                 lstm_9[0][2]                     \n",
      "__________________________________________________________________________________________________\n",
      "attention_layer (AdditiveAttent (None, None, 512)    512         lstm_10[0][0]                    \n",
      "                                                                 lstm_9[0][0]                     \n",
      "__________________________________________________________________________________________________\n",
      "concat_layer (Concatenate)      (None, None, 1024)   0           lstm_10[0][0]                    \n",
      "                                                                 attention_layer[0][0]            \n",
      "__________________________________________________________________________________________________\n",
      "dense_3 (Dense)                 (None, None, 5000)   5125000     concat_layer[0][0]               \n",
      "==================================================================================================\n",
      "Total params: 13,869,448\n",
      "Trainable params: 13,869,448\n",
      "Non-trainable params: 0\n",
      "__________________________________________________________________________________________________\n"
     ]
    }
   ],
   "source": [
    "from tensorflow.keras.layers import AdditiveAttention\n",
    "\n",
    "# 어텐션 층(어텐션 함수)\n",
    "attn_layer = AdditiveAttention(name='attention_layer')\n",
    "\n",
    "# 인코더와 디코더의 모든 time step의 hidden state를 어텐션 층에 전달하고 결과를 리턴\n",
    "attn_out = attn_layer([decoder_outputs, encoder_outputs])\n",
    "\n",
    "\n",
    "# 어텐션의 결과와 디코더의 hidden state들을 연결\n",
    "decoder_concat_input = Concatenate(axis=-1, name='concat_layer')([decoder_outputs, attn_out])\n",
    "\n",
    "# 디코더의 출력층\n",
    "decoder_softmax_layer = Dense(tar_vocab, activation='softmax')\n",
    "decoder_softmax_outputs = decoder_softmax_layer(decoder_concat_input)\n",
    "\n",
    "# 모델 정의\n",
    "model = Model([encoder_inputs, decoder_inputs], decoder_softmax_outputs)\n",
    "model.summary()"
   ]
  },
  {
   "cell_type": "code",
   "execution_count": 108,
   "id": "0927ce49",
   "metadata": {},
   "outputs": [
    {
     "name": "stdout",
     "output_type": "stream",
     "text": [
      "Epoch 1/50\n",
      "275/275 [==============================] - 183s 635ms/step - loss: 4.6425 - val_loss: 4.3015\n",
      "Epoch 2/50\n",
      "275/275 [==============================] - 175s 635ms/step - loss: 4.0836 - val_loss: 3.9096\n",
      "Epoch 3/50\n",
      "275/275 [==============================] - 174s 631ms/step - loss: 3.7117 - val_loss: 3.6245\n",
      "Epoch 4/50\n",
      "275/275 [==============================] - 174s 634ms/step - loss: 3.4261 - val_loss: 3.4397\n",
      "Epoch 5/50\n",
      "275/275 [==============================] - 174s 633ms/step - loss: 3.2033 - val_loss: 3.2942\n",
      "Epoch 6/50\n",
      "275/275 [==============================] - 174s 634ms/step - loss: 3.0235 - val_loss: 3.2034\n",
      "Epoch 7/50\n",
      "275/275 [==============================] - 174s 632ms/step - loss: 2.8739 - val_loss: 3.1351\n",
      "Epoch 8/50\n",
      "275/275 [==============================] - 174s 635ms/step - loss: 2.7407 - val_loss: 3.0906\n",
      "Epoch 9/50\n",
      "275/275 [==============================] - 174s 635ms/step - loss: 2.6239 - val_loss: 3.0576\n",
      "Epoch 10/50\n",
      "275/275 [==============================] - 174s 633ms/step - loss: 2.5197 - val_loss: 3.0251\n",
      "Epoch 11/50\n",
      "275/275 [==============================] - 174s 633ms/step - loss: 2.4225 - val_loss: 3.0115\n",
      "Epoch 12/50\n",
      "275/275 [==============================] - 174s 634ms/step - loss: 2.3345 - val_loss: 3.0043\n",
      "Epoch 13/50\n",
      "275/275 [==============================] - 174s 631ms/step - loss: 2.2535 - val_loss: 2.9994\n",
      "Epoch 14/50\n",
      "275/275 [==============================] - 173s 630ms/step - loss: 2.1807 - val_loss: 2.9976\n",
      "Epoch 15/50\n",
      "275/275 [==============================] - 173s 629ms/step - loss: 2.1101 - val_loss: 3.0016\n",
      "Epoch 16/50\n",
      "275/275 [==============================] - 179s 650ms/step - loss: 2.0464 - val_loss: 3.0028\n",
      "Epoch 00016: early stopping\n"
     ]
    }
   ],
   "source": [
    "model.compile(optimizer='rmsprop', loss='sparse_categorical_crossentropy')\n",
    "es = EarlyStopping(monitor='val_loss', patience=2, verbose=1)\n",
    "history = model.fit(x=[encoder_input_train, decoder_input_train], y=decoder_target_train, \\\n",
    "          validation_data=([encoder_input_test, decoder_input_test], decoder_target_test), \\\n",
    "          batch_size=256, callbacks=[es], epochs=50)"
   ]
  },
  {
   "cell_type": "code",
   "execution_count": 109,
   "id": "6ad4f737",
   "metadata": {},
   "outputs": [
    {
     "data": {
      "image/png": "[encoded data removed]",
      "text/plain": [
       "<Figure size 432x288 with 1 Axes>"
      ]
     },
     "metadata": {
      "needs_background": "light"
     },
     "output_type": "display_data"
    }
   ],
   "source": [
    "plt.plot(history.history['loss'], label='train')\n",
    "plt.plot(history.history['val_loss'], label='test')\n",
    "plt.legend()\n",
    "plt.show()"
   ]
  },
  {
   "cell_type": "code",
   "execution_count": 110,
   "id": "53ccb4f5",
   "metadata": {},
   "outputs": [],
   "source": [
    "src_index_to_word = src_tokenizer.index_word # 원문 단어 집합에서 정수 -> 단어를 얻음\n",
    "tar_word_to_index = tar_tokenizer.word_index # 요약 단어 집합에서 단어 -> 정수를 얻음\n",
    "tar_index_to_word = tar_tokenizer.index_word # 요약 단어 집합에서 정수 -> 단어를 얻음"
   ]
  },
  {
   "cell_type": "code",
   "execution_count": 111,
   "id": "50d7c922",
   "metadata": {},
   "outputs": [],
   "source": [
    "# 인코더 설계\n",
    "encoder_model = Model(inputs=encoder_inputs, outputs=[encoder_outputs, state_h3, state_c3])\n",
    "\n",
    "# 이전 시점의 상태들을 저장하는 텐서\n",
    "decoder_state_input_h = Input(shape=(hidden_size,))\n",
    "decoder_state_input_c = Input(shape=(hidden_size,))\n",
    "\n",
    "dec_emb2 = dec_emb_layer(decoder_inputs)\n",
    "\n",
    "# 문장의 다음 단어를 예측하기 위해서 초기 상태(initial_state)를 이전 시점의 상태로 사용. 이는 뒤의 함수 decode_sequence()에 구현\n",
    "# 훈련 과정에서와 달리 LSTM의 리턴하는 은닉 상태와 셀 상태인 state_h와 state_c를 버리지 않음.\n",
    "decoder_outputs2, state_h2, state_c2 = decoder_lstm(dec_emb2, initial_state=[decoder_state_input_h, decoder_state_input_c])"
   ]
  },
  {
   "cell_type": "code",
   "execution_count": 112,
   "id": "4d6f1e3f",
   "metadata": {},
   "outputs": [],
   "source": [
    "# 어텐션 함수\n",
    "decoder_hidden_state_input = Input(shape=(text_max_len, hidden_size))\n",
    "attn_out_inf = attn_layer([decoder_outputs2, decoder_hidden_state_input])\n",
    "decoder_inf_concat = Concatenate(axis=-1, name='concat')([decoder_outputs2, attn_out_inf])\n",
    "\n",
    "# 디코더의 출력층\n",
    "decoder_outputs2 = decoder_softmax_layer(decoder_inf_concat) \n",
    "\n",
    "# 최종 디코더 모델\n",
    "decoder_model = Model(\n",
    "    [decoder_inputs] + [decoder_hidden_state_input,decoder_state_input_h, decoder_state_input_c],\n",
    "    [decoder_outputs2] + [state_h2, state_c2])"
   ]
  },
  {
   "cell_type": "code",
   "execution_count": 113,
   "id": "193b0b1b",
   "metadata": {},
   "outputs": [],
   "source": [
    "def decode_sequence(input_seq):\n",
    "    # 입력으로부터 인코더의 상태를 얻음\n",
    "    e_out, e_h, e_c = encoder_model.predict(input_seq)\n",
    "\n",
    "     # <SOS>에 해당하는 토큰 생성\n",
    "    target_seq = np.zeros((1,1))\n",
    "    target_seq[0, 0] = tar_word_to_index['sostoken']\n",
    "\n",
    "    stop_condition = False\n",
    "    decoded_sentence = ''\n",
    "    while not stop_condition: # stop_condition이 True가 될 때까지 루프 반복\n",
    "\n",
    "        output_tokens, h, c = decoder_model.predict([target_seq] + [e_out, e_h, e_c])\n",
    "        sampled_token_index = np.argmax(output_tokens[0, -1, :])\n",
    "        sampled_token = tar_index_to_word[sampled_token_index]\n",
    "\n",
    "        if (sampled_token!='eostoken'):\n",
    "            decoded_sentence += ' '+sampled_token\n",
    "\n",
    "        #  <eos>에 도달하거나 최대 길이를 넘으면 중단.\n",
    "        if (sampled_token == 'eostoken'  or len(decoded_sentence.split()) >= (summary_max_len-1)):\n",
    "            stop_condition = True\n",
    "\n",
    "        # 길이가 1인 타겟 시퀀스를 업데이트\n",
    "        target_seq = np.zeros((1,1))\n",
    "        target_seq[0, 0] = sampled_token_index\n",
    "\n",
    "        # 상태를 업데이트 합니다.\n",
    "        e_h, e_c = h, c\n",
    "\n",
    "    return decoded_sentence"
   ]
  },
  {
   "cell_type": "code",
   "execution_count": 114,
   "id": "a27f9ac8",
   "metadata": {},
   "outputs": [],
   "source": [
    "# 원문의 정수 시퀀스를 텍스트 시퀀스로 변환\n",
    "def seq2text(input_seq):\n",
    "    temp=''\n",
    "    for i in input_seq:\n",
    "        if (i!=0):\n",
    "            temp = temp + src_index_to_word[i]+' '\n",
    "    return temp\n",
    "\n",
    "# 요약문의 정수 시퀀스를 텍스트 시퀀스로 변환\n",
    "def seq2summary(input_seq):\n",
    "    temp=''\n",
    "    for i in input_seq:\n",
    "        if (i!=0):\n",
    "            temp = temp + src_index_to_word[i]+' '\n",
    "    return temp"
   ]
  },
  {
   "cell_type": "code",
   "execution_count": 115,
   "id": "54fecae6",
   "metadata": {
    "scrolled": true
   },
   "outputs": [
    {
     "name": "stdout",
     "output_type": "stream",
     "text": [
      "src_index_to_word의 키 목록: [1, 2, 3, 4, 5, 6, 7, 8, 9, 10, 11, 12, 13, 14, 15, 16, 17, 18, 19, 20]\n"
     ]
    }
   ],
   "source": [
    "print(\"src_index_to_word의 키 목록:\", list(src_index_to_word.keys())[:20])  # 일부 키만 출력"
   ]
  },
  {
   "cell_type": "code",
   "execution_count": 116,
   "id": "ca4fc8f8",
   "metadata": {},
   "outputs": [
    {
     "name": "stdout",
     "output_type": "stream",
     "text": [
      "원문 : actor varun dhawan shirt father filmmaker david dhawan gift birthday posting video social media seen shirt david wearing varun captioned beta mein ho gaya ko birthday ka \n",
      "실제 요약 : said legal certain engineering notably year indians cameras president married basis \n",
      "예측 요약 :  varun dhawan shares video of his father\n",
      "\n",
      "\n",
      "원문 : police us state florida warned people shoot guns hurricane facebook event calling people went viral people said attend others marked interested event event description read let us show shoot first \n",
      "실제 요약 : said minister airport drinks made year people patel licence indian breach \n",
      "예측 요약 :  us police warns us police over anti mass shooting\n",
      "\n",
      "\n",
      "원문 : police arrested wanted hizbul mujahideen militant ahmad jammu kashmir sunday ahmad whose pictures holding assault rifle surfaced online involved case related militancy srinagar police official said name also surfaced interrogation two associates arrested july added \n",
      "실제 요약 : said hand electoral removal tweeted added investigating actor mp \n",
      "예측 요약 :  hizbul arrests hizbul over hizbul chief\n",
      "\n",
      "\n",
      "원문 : couple us convicted child providing year old daughter year old friend former birthday policemen called home daughter drank shots passed father mother fled house sentenced years months jail respectively \n",
      "실제 요약 : said january criticism year told old many actress dollars \n",
      "예측 요약 :  parents of daughter in us church daughter\n",
      "\n",
      "\n",
      "원문 : cbi booked unidentified members indigenous people front tripura including three party leaders connection killing two journalists state last year killed covering road agitation allegedly shot dead tripura state rifles \n",
      "실제 요약 : said allows october two biggest also taiwan added granted \n",
      "예측 요약 :  cbi books fir against cbi in madhya pradesh\n",
      "\n",
      "\n",
      "원문 : speaking introduction drs technology indian domestic circuit captain said seen drs helped teams decisions international level batsman cheteshwar pujara twice given edged ball wicket keeper ranji trophy semi final karnataka \n",
      "실제 요약 : said issued gupta also added crash user \n",
      "예측 요약 :  has been hit by an wicket in tests\n",
      "\n",
      "\n",
      "원문 : six years discovery god particle observed fundamental particles known bottom seen two switzerland geneva houses world largest particle accelerator physicist peter predicted physics nobel confirmed \n",
      "실제 요약 : said including year take old terrorists story raided \n",
      "예측 요약 :  remains of on earth discovered\n",
      "\n",
      "\n",
      "원문 : reacting roger federer winning th wimbledon title user tweeted th wimbledon title th grand slam reason call goat equal fools dream us fools finally happened finally thank read another \n",
      "실제 요약 : said mercedes production th based trump portal attack general \n",
      "예측 요약 :  federer tweets user on wimbledon final\n",
      "\n",
      "\n",
      "원문 : former madhya pradesh left arm spinner manish bowled overs took wicket without conceding run second innings railways ranji trophy match november first innings registered figures last day railways scored runs overs manage draw \n",
      "실제 요약 : said scandal player ranji opposed added number restaurant open away \n",
      "예측 요약 :  bowler once took wkts for overs in balls to score\n",
      "\n",
      "\n",
      "원문 : facebook admitted million fake accounts according third quarter earnings report facebook said around user accounts company also admitted accounts real users almost double estimate last quarter \n",
      "실제 요약 : said next message year drug new year directed show bail \n",
      "예측 요약 :  facebook data in facebook accounts\n",
      "\n",
      "\n",
      "원문 : film director kumar allegedly committed suicide hanging residence mumbai per local police body found hanging ceiling wife ahmed shaikh came home known directing films like ek teen se \n",
      "실제 요약 : said office rape demanding kerala indian pm talking \n",
      "예측 요약 :  kannada actress commits suicide at her residence\n",
      "\n",
      "\n",
      "원문 : hyderabad police sunday rescued thai women indian women allegedly forced trade massage hyderabad police probe revealed owners took passports foreign nationals employed forced sexual activities \n",
      "실제 요약 : said airport scam luxury actor former asked film interview \n",
      "예측 요약 :  rescued from thai women rescued\n",
      "\n",
      "\n",
      "원문 : class bihar girl allegedly raped people including school principal claimed earlier raped principal minor son principal son among gangraped december added also said principal knew gangrape quiet \n",
      "실제 요약 : said decisions financial thursday old pakistan suspended kapoor another issue record bank \n",
      "예측 요약 :  class girl raped by principal in madhya pradesh\n",
      "\n",
      "\n",
      "원문 : window us military helicopter fell onto sports ground school near us air base japan wednesday immediate reports injuries accident adding investigating incident us military said incident apologise anxiety caused community \n",
      "실제 요약 : said minister sharing eu blog move police using physical added failed \n",
      "예측 요약 :  us air force lands in us rescued after collision\n",
      "\n",
      "\n",
      "원문 : time british government finally apologise bagh massacre least people killed london mayor khan said massacre took place april troops british indian army fired guns indian meeting protest british government forced indian soldiers \n",
      "실제 요약 : said sunday political choose us refused feat \n",
      "예측 요약 :  uk politician claims he was warned of kabul\n",
      "\n",
      "\n",
      "원문 : trolled social media picture team india members indian high commission london actress anushka sharma said whatever happened happened within guidelines react trolls clarification made whoever make let us make cry added \n",
      "실제 요약 : said allegedly notices vote matter police back government since first \n",
      "예측 요약 :  do not believe in tweet on kohli tweet on virat kohli\n",
      "\n",
      "\n",
      "원문 : samajwadi party mla azam khan requested muslims stay away dairy business cow trading safety wife fatima returned cow mob lynching fears returned beautiful cow gifted us fears someone might kill animal put blame us fatima said \n",
      "실제 요약 : said sets working wave least cricket aged form two anything breaking collection \n",
      "예측 요약 :  let muslim kids have right to be azam\n",
      "\n",
      "\n",
      "원문 : indian pacer sreesanth reportedly set appear contestant th edition reality show bigg boss sreesanth handed life ban bcci alleged involvement spot fixing playing rajasthan royals ipl th edition show hosted actor salman khan \n",
      "실제 요약 : said justice shooting telling year state seeking also municipal driving congress \n",
      "예측 요약 :  yuvraj to play reality show in show on sreesanth\n",
      "\n",
      "\n",
      "원문 : actor shah rukh khan welfare organisation foundation donated lakh kerala chief minister disaster relief fund flood victims per reports duty one us stand brothers sisters times need wrote shah rukh twitter deaths reported kerala \n",
      "실제 요약 : said cricketer walked latter us donald citizens congress \n",
      "예측 요약 :  srk donates lakh for kerala floods relief\n",
      "\n",
      "\n",
      "원문 : google added new feature assistant lets users us make donations organisations using commands like ok google make donation users pick monetary amount organisation choice make donation would enable payments option use new feature \n",
      "실제 요약 : said killed florida successfully call year singer minister report month asif \n",
      "예측 요약 :  google adds feature to google users for once\n",
      "\n",
      "\n",
      "원문 : tip khalifa tallest building world seen km away building height metres nearly thrice tall paris tower khalifa opened dubai january also world tallest free standing structure \n",
      "실제 요약 : said also national state music film haryana reported \n",
      "예측 요약 :  world largest building opens in germany\n",
      "\n",
      "\n",
      "원문 : new middle earth love story lord rings author published years written referred personal story written returned world war one battle man ordered complete dangerous task marriage \n",
      "실제 요약 : said day boy scene injured old comes \n",
      "예측 요약 :  hitler was once in the world\n",
      "\n",
      "\n",
      "원문 : information broadcasting ministry announced journalists guilty writing broadcasting fake news may lose temporarily permanently depending number violations complaints fake news referred news association violations tv press council india violations print \n",
      "실제 요약 : said taiwan facilities also accepting show shows seven muslim \n",
      "예측 요약 :  fake news on twitter fake news on social media\n",
      "\n",
      "\n",
      "원문 : us president donald trump friday released details personal white house staffers according documents real estate investment empire trump son law daughter ivanka trump reportedly worth much million however neither trump vice president mike pence assets included documents \n",
      "실제 요약 : said three rohit levels electricity also keep nearly \n",
      "예측 요약 :  trump son charged over his money to fund\n",
      "\n",
      "\n",
      "원문 : designers shane peacock designed lehenga worn priyanka chopra delhi wedding reception revealed took man hours make many involved making lehenga priyanka got married american singer nick jonas jodhpur bhawan \n",
      "실제 요약 : said allegedly illegal world amazon year month came migrants \n",
      "예측 요약 :  priyanka chopra attends her house for the first time\n",
      "\n",
      "\n",
      "원문 : playboy model arrested nude photo shoot vatican pictures photo shoot showed belgian model tied cross sitting naked among others earlier jailed posing naked temple complex near city egypt \n",
      "실제 요약 : said wipro banks tweeted old ajay lot patel indian nepotism \n",
      "예측 요약 :  photographer arrested for pics of women in snapchat\n",
      "\n",
      "\n",
      "원문 : oberoi delhi set january month long cost estimated crore several rooms undergone new indian restaurant called launched chinese restaurant called replaced also new open air rooftop bar called \n",
      "실제 요약 : said time wanted year old earlier \n",
      "예측 요약 :  delhi delhi delhi most expensive line\n",
      "\n",
      "\n",
      "원문 : aimim mla pathan apology chanting recent visit ganesh mumbai yes accept mistake regret know allah forgive said reportedly criticised party members video ganesh surfaced online \n",
      "실제 요약 : said working cbi prove us \n",
      "예측 요약 :  mla accuses of kissing mla\n",
      "\n",
      "\n",
      "원문 : japan planning launch self driving car service tokyo according government strategic review announced monday strategy also includes plans allow development virtual power plants fiscal year ending march government try system early per review \n",
      "실제 요약 : said failed foreign year place stupid girl vice added one \n",
      "예측 요약 :  japan to build electric electric cars in india\n",
      "\n",
      "\n",
      "원문 : tamil nadu advanced ck trophy winning hyderabad coin toss four day match rain play possible second fourth days extended fifth day play possible leading coin toss decide outcome \n",
      "실제 요약 : said since money hospital one also assured sky president sign men \n",
      "예측 요약 :  tamil nadu tamil nadu tamil nadu tamil nadu to play in tamil\n",
      "\n",
      "\n",
      "원문 : british author nobel prize literature said initially thought hoax honour mainly means greatest lived year old said known never let go remains day \n",
      "실제 요약 : said awards allegedly reports boxing terrorists moved \n",
      "예측 요약 :  australian player claims he is no confidence\n",
      "\n",
      "\n",
      "원문 : mcafee researchers discovered microsoft digital assistant used hack computers running windows operating system found could activated used deploy malicious software windows account password locked device however attack hacker would need physical access pc researchers claimed \n",
      "실제 요약 : said things national state assembly year looks affected rajiv \n",
      "예측 요약 :  researchers data that can find control control of\n",
      "\n",
      "\n",
      "원문 : assets management india mutual fund industry crossed lakh crore mark first time touch lakh crore august industry witnessed high lakh crore last month total asset base fund houses put together lakh crore august last year \n",
      "실제 요약 : said half reserved toll straight monday earlier us chief woman \n",
      "예측 요약 :  india largest projects in india highest ever\n",
      "\n",
      "\n",
      "원문 : kerala government requested centre send team experts state three people kozhikode based family died infected unknown virus people placed observation wards urging people panic state health minister kk said outbreak occurred first time \n",
      "실제 요약 : said donald good others daughter old harry university \n",
      "예측 요약 :  kerala govt to give to kin of\n",
      "\n",
      "\n",
      "원문 : german cyclist year tour de france stage seven third stage win year photo finish norwegian cyclist margin victory decided help special camera taking images second found seconds \n",
      "실제 요약 : said economy hai nations arm charge added lot concern government \n",
      "예측 요약 :  german club holds title of\n",
      "\n",
      "\n",
      "원문 : mark us president donald trump first days office digital firm huge reported trump total number likes per tweet dropped last three months huge analysis claims overall engagement tweets however percentage tweets sounds dropped \n",
      "실제 요약 : said temples police champions three attack based wish added help \n",
      "예측 요약 :  trump th person to hit years ago\n",
      "\n",
      "\n",
      "원문 : year old girl jumped death top storey shopping complex hyderabad today failing get expected rank neet exam according police committed suicide even several people raised alarm top floor sustained head injuries died spot \n",
      "실제 요약 : said party delhi terrorism year five old eating year case female parking kaur \n",
      "예측 요약 :  year old girl dies in bengaluru after death\n",
      "\n",
      "\n",
      "원문 : actress aditi rao revealed fire broke thursday evening sets sanjay dutt comeback film bhoomi one injured aditi added shooting song ganesh master short circuit caused fire people set including dancers cast crew \n",
      "실제 요약 : said school trained according police gold also election trump six free directorial sania \n",
      "예측 요약 :  felt heavy in fire at me shoot\n",
      "\n",
      "\n",
      "원문 : new quota economically weaker sections general category applicable central government posts february official order said instructions regarding reservation admission educational institutions issued ministry human resource development order added \n",
      "실제 요약 : said sixth added years season film shuttler others \n",
      "예측 요약 :  govt to give quota for\n",
      "\n",
      "\n",
      "원문 : china constructing first four advanced naval pakistan part arms deal state owned china daily quoted china state corporation saying strengthen capability respond future challenges maintain peace stability balance power indian ocean region added \n",
      "실제 요약 : said million reacting set shopping maintaining us china congress \n",
      "예측 요약 :  china to build its first ever nuclear reports\n",
      "\n",
      "\n",
      "원문 : un court wednesday convicted former commander war sentenced life prison dubbed convicted massacre capital people died \n",
      "실제 요약 : said also test kumar added appeared two \n",
      "예측 요약 :  sentenced to death sentence for\n",
      "\n",
      "\n",
      "원문 : karnataka year old upsc varun subhash committed suicide sunday denied entry exam centre four minutes late rules rules good purpose legitimate think never existed wrote suicide note varun got late mistakenly reached wrong centre earlier \n",
      "실제 요약 : said trump suresh added panel waves added kerala matches \n",
      "예측 요약 :  taka govt commits suicide after failing to commit suicide\n",
      "\n",
      "\n",
      "원문 : ministry external affairs denied permission kerala tourism minister attend global tourism event china said ministry cited reason denying permission added would send letter pm narendra modi regarding seems like political decision minister said \n",
      "실제 요약 : said manmohan read donald khan restaurants year occasion million planning \n",
      "예측 요약 :  kerala govt refuses to attend event of kerala cm\n",
      "\n",
      "\n",
      "원문 : scott year old england collapsed national title bout last week rushed hospital urgent medical attention later passed away british council sanctioned event bout fighters allowed kick head \n",
      "실제 요약 : said like delhi taken old photo melania \n",
      "예측 요약 :  yr old australian boy climbs ft in thai cave\n",
      "\n",
      "\n",
      "원문 : lok sabha speaker sumitra mahajan wednesday accepted confidence motion pm narendra modi led government first time mahajan said discussions regarding motion led tdp take place friday tdp filed motion centre denial give special category status andhra pradesh promised general elections \n",
      "실제 요약 : said hitting understand kashyap trump beaten individual team accused years us country woman \n",
      "예측 요약 :  centre to support lok sabha speaker on pm modi\n",
      "\n",
      "\n",
      "원문 : talking tiger shroff akshay kumar said bollywood could announce tony industry take bow action force wrote akshay tony thai martial artist action choreographer featured films like thai warrior return cage \n",
      "실제 요약 : said nasa declare crore court also guilty april rape \n",
      "예측 요약 :  akshay kumar is in the industry industry\n",
      "\n",
      "\n",
      "원문 : talking jammu kashmir china said kashmir issue left history china hopes india pakistan increase dialogue communication properly handle relevant issues jointly safeguard regional peace stability making statement china demand islamabad united nations appoint special envoy region \n",
      "실제 요약 : said violence official state one first lakh million \n",
      "예측 요약 :  china has no role in doklam china\n",
      "\n",
      "\n",
      "원문 : reliance industries chairman mukesh ambani surpassed hong kong li ka become asia second richest person billion fortune per bloomberg ambani added billion wealth year reliance shares surged rally launch effectively security deposit \n",
      "실제 요약 : said alive responding technology attacked received proposal appointed \n",
      "예측 요약 :  mukesh ambani becomes world richest man\n",
      "\n",
      "\n",
      "원문 : presenting union budget thursday finance minister arun jaitley announced salaries members parliament automatically revised every five years based inflation present system mps increase salary invited criticism changed added \n",
      "실제 요약 : said bring blasts year state africa comes \n",
      "예측 요약 :  govt to pay lakh for th time in yrs jaitley\n",
      "\n",
      "\n",
      "원문 : image indian origin died refused abortion due strict irish laws become face abortion campaign ireland country abortion rules grant mother child equal right life effectively banning abortion referendum anti abortion rule take place may \n",
      "실제 요약 : said former company demonetisation thailand masjid ghaziabad included \n",
      "예측 요약 :  india st child death of child\n",
      "\n",
      "\n"
     ]
    }
   ],
   "source": [
    "for i in range(50, 100):\n",
    "    print(\"원문 :\", seq2text(encoder_input_test[i]))\n",
    "    print(\"실제 요약 :\", seq2summary(decoder_input_test[i]))\n",
    "    print(\"예측 요약 :\", decode_sequence(encoder_input_test[i].reshape(1, text_max_len)))\n",
    "    print(\"\\n\")"
   ]
  },
  {
   "cell_type": "code",
   "execution_count": null,
   "id": "656027aa",
   "metadata": {},
   "outputs": [],
   "source": []
  }
 ],
 "metadata": {
  "kernelspec": {
   "display_name": "Python 3 (ipykernel)",
   "language": "python",
   "name": "python3"
  },
  "language_info": {
   "codemirror_mode": {
    "name": "ipython",
    "version": 3
   },
   "file_extension": ".py",
   "mimetype": "text/x-python",
   "name": "python",
   "nbconvert_exporter": "python",
   "pygments_lexer": "ipython3",
   "version": "3.9.7"
  }
 },
 "nbformat": 4,
 "nbformat_minor": 5
}
