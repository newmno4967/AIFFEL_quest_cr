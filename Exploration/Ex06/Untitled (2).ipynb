{
 "cells": [
  {
   "cell_type": "code",
   "execution_count": 1,
   "id": "f965842c",
   "metadata": {},
   "outputs": [
    {
     "data": {
      "image/png": "[encoded data removed]",
      "text/plain": [
       "<PIL.Image.Image image mode=L size=300x168 at 0x7A754A851A00>"
      ]
     },
     "execution_count": 1,
     "metadata": {},
     "output_type": "execute_result"
    }
   ],
   "source": [
    "from diffusers.utils import load_image \n",
    "from PIL import Image\n",
    "import cv2\n",
    "import numpy as np\n",
    "from diffusers.utils import load_image\n",
    "\n",
    "# Q. 코드를 작성해 보세요.\n",
    "# 이미지를 불러오세요. \n",
    "canny_image = load_image(\n",
    "    \"https://encrypted-tbn0.gstatic.com/images?q=tbn:ANd9GcRGmJ3bXXoUVMIn-An2puaoOl3XvNDwezupBQ&s\"\n",
    ")\n",
    "#canny_image = # [[YOUR CODE]]\n",
    "\n",
    "#threshhold를 지정합니다. \n",
    "low_threshold = 100\n",
    "high_threshold = 200\n",
    "\n",
    "# 이미지를 NumPy 배열로 변환합니다. \n",
    "canny_image = np.array(canny_image)\n",
    "\n",
    "# 인체 감지 포즈를 넣어줄 가운데 부분을 지워줍니다. \n",
    "zero_start = canny_image.shape[1] // 4\n",
    "zero_end = zero_start + canny_image.shape[1] // 2\n",
    "canny_image[:, zero_start:zero_end] = 0\n",
    "\n",
    "# 윤곽선을 검출하고 NumPy 배열을 PIL 이미지로 변환합니다. \n",
    "canny_image = cv2.Canny(canny_image, low_threshold, high_threshold)\n",
    "canny_image = Image.fromarray(canny_image)\n",
    "\n",
    "canny_image"
   ]
  },
  {
   "cell_type": "code",
   "execution_count": 2,
   "id": "ac97c388",
   "metadata": {},
   "outputs": [
    {
     "name": "stdout",
     "output_type": "stream",
     "text": [
      "cuda\n"
     ]
    },
    {
     "data": {
      "image/png": "[encoded data removed]",
      "text/plain": [
       "<PIL.Image.Image image mode=RGB size=512x640 at 0x7A76092CF4F0>"
      ]
     },
     "execution_count": 2,
     "metadata": {},
     "output_type": "execute_result"
    }
   ],
   "source": [
    "from controlnet_aux import OpenposeDetector\n",
    "from diffusers.utils import load_image \n",
    "\n",
    "# Q. 아래의 코드를 작성해 주세요.\n",
    "# 이미지를 불러옵니다. \n",
    "openpose_image = load_image(\n",
    "    \"https://encrypted-tbn0.gstatic.com/images?q=tbn:ANd9GcR-sRBwSvnDbF3WO9ONClxT9rVIAEnZyc5V5g&s\"\n",
    ")\n",
    "\n",
    "# OpenposeDetector를 사용하여 인체 자세를 검출합니다. \n",
    "openpose = OpenposeDetector.from_pretrained(\"lllyasviel/ControlNet\")\n",
    "openpose_image = openpose(openpose_image)\n",
    "\n",
    "openpose_image"
   ]
  },
  {
   "cell_type": "code",
   "execution_count": null,
   "id": "05d69dc7",
   "metadata": {},
   "outputs": [
    {
     "name": "stdout",
     "output_type": "stream",
     "text": [
      "\n",
      "===================================BUG REPORT===================================\n",
      "Welcome to bitsandbytes. For bug reports, please run\n",
      "\n",
      "python -m bitsandbytes\n",
      "\n",
      " and submit this information together with your error trace to: https://github.com/TimDettmers/bitsandbytes/issues\n",
      "================================================================================\n",
      "bin /opt/conda/lib/python3.9/site-packages/bitsandbytes/libbitsandbytes_cpu.so\n",
      "/opt/conda/lib/python3.9/site-packages/bitsandbytes/libbitsandbytes_cpu.so: undefined symbol: cadam32bit_grad_fp32\n",
      "CUDA_SETUP: WARNING! libcudart.so not found in any environmental path. Searching in backup paths...\n",
      "CUDA SETUP: Highest compute capability among GPUs detected: 7.5\n",
      "CUDA SETUP: Detected CUDA version 113\n",
      "CUDA SETUP: Loading binary /opt/conda/lib/python3.9/site-packages/bitsandbytes/libbitsandbytes_cpu.so...\n"
     ]
    },
    {
     "name": "stderr",
     "output_type": "stream",
     "text": [
      "/opt/conda/lib/python3.9/site-packages/bitsandbytes/cextension.py:34: UserWarning: The installed version of bitsandbytes was compiled without GPU support. 8-bit optimizers, 8-bit multiplication, and GPU quantization are unavailable.\n",
      "  warn(\"The installed version of bitsandbytes was compiled without GPU support. \"\n",
      "/opt/conda/lib/python3.9/site-packages/bitsandbytes/cuda_setup/main.py:149: UserWarning: WARNING: The following directories listed in your path were found to be non-existent: {PosixPath('/usr/local/nvidia/lib')}\n",
      "  warn(msg)\n",
      "/opt/conda/lib/python3.9/site-packages/bitsandbytes/cuda_setup/main.py:149: UserWarning: /usr/local/nvidia/lib:/usr/local/nvidia/lib64 did not contain ['libcudart.so', 'libcudart.so.11.0', 'libcudart.so.12.0'] as expected! Searching further paths...\n",
      "  warn(msg)\n",
      "/opt/conda/lib/python3.9/site-packages/bitsandbytes/cuda_setup/main.py:149: UserWarning: WARNING: The following directories listed in your path were found to be non-existent: {PosixPath('tcp'), PosixPath('//10.88.0.1'), PosixPath('443')}\n",
      "  warn(msg)\n",
      "/opt/conda/lib/python3.9/site-packages/bitsandbytes/cuda_setup/main.py:149: UserWarning: WARNING: The following directories listed in your path were found to be non-existent: {PosixPath('tcp'), PosixPath('//10.88.7.10'), PosixPath('8887')}\n",
      "  warn(msg)\n",
      "/opt/conda/lib/python3.9/site-packages/bitsandbytes/cuda_setup/main.py:149: UserWarning: WARNING: The following directories listed in your path were found to be non-existent: {PosixPath('tcp'), PosixPath('8888'), PosixPath('//10.88.7.10')}\n",
      "  warn(msg)\n",
      "/opt/conda/lib/python3.9/site-packages/bitsandbytes/cuda_setup/main.py:149: UserWarning: WARNING: The following directories listed in your path were found to be non-existent: {PosixPath('/aiffel/storage/package')}\n",
      "  warn(msg)\n",
      "/opt/conda/lib/python3.9/site-packages/bitsandbytes/cuda_setup/main.py:149: UserWarning: WARNING: The following directories listed in your path were found to be non-existent: {PosixPath('module'), PosixPath('//matplotlib_inline.backend_inline')}\n",
      "  warn(msg)\n",
      "/opt/conda/lib/python3.9/site-packages/bitsandbytes/cuda_setup/main.py:149: UserWarning: WARNING: The following directories listed in your path were found to be non-existent: {PosixPath('/usr/local/cuda/lib64')}\n",
      "  warn(msg)\n",
      "/opt/conda/lib/python3.9/site-packages/bitsandbytes/cuda_setup/main.py:149: UserWarning: WARNING: No libcudart.so found! Install CUDA or the cudatoolkit package (anaconda)!\n",
      "  warn(msg)\n"
     ]
    },
    {
     "data": {
      "application/vnd.jupyter.widget-view+json": {
       "model_id": "16b6058526514c1982030113d1179d9a",
       "version_major": 2,
       "version_minor": 0
      },
      "text/plain": [
       "Loading pipeline components...:   0%|          | 0/7 [00:00<?, ?it/s]"
      ]
     },
     "metadata": {},
     "output_type": "display_data"
    }
   ],
   "source": [
    "from diffusers import StableDiffusionControlNetPipeline, ControlNetModel, UniPCMultistepScheduler  \n",
    "import torch\n",
    "\n",
    "# Q. 코드를 작성해 보세요.\n",
    "\n",
    "canny_controlnet = ControlNetModel.from_pretrained(\"lllyasviel/sd-controlnet-canny\", torch_dtype=torch.float16)\n",
    "openpose_controlnet = ControlNetModel.from_pretrained(\"lllyasviel/sd-controlnet-openpose\", torch_dtype=torch.float16)\n",
    "\n",
    "# Edge Detection과 Openpose, 2개의 전처리기를 controlnets라는 리스트로 만듭니다. \n",
    "controlnets = [canny_controlnet, openpose_controlnet]\n",
    "\n",
    "# 리스트 controlnets를 파이프라인으로 전달합니다. \n",
    "pipe = StableDiffusionControlNetPipeline.from_pretrained(\n",
    "    \"runwayml/stable-diffusion-v1-5\",\n",
    "    controlnet=controlnets,\n",
    "    torch_dtype=torch.float16,\n",
    "    low_cpu_mem_usage=True\n",
    ")\n",
    "\n",
    "pipe.scheduler = UniPCMultistepScheduler.from_config(pipe.scheduler.config)\n",
    "pipe = pipe.to(\"cuda\")\n",
    "\n",
    "\n",
    "# 프롬프트를 작성합니다. \n",
    "prompt =  [\"A sinister mastermind, wearing a high-collared trench coat, seated in a grand gothic chamber, illuminated by flickering candlelight, holding a glass of wine, deep shadows, menacing aura, highly detailed, ultra-realistic, dark and mysterious atmosphere\", \n",
    "    \"A serene monk, standing before a grand altar, surrounded by floating candles and sacred texts, chanting ancient prayers, warm golden light illuminating the holy shrine, ethereal atmosphere, hyper-detailed, divine aesthetic\"]\n",
    "negative_prompt = [\"blurry\"] * 2\n",
    "\n",
    "# seed를 지정합니다. \n",
    "generator = torch.manual_seed(2)\n",
    "\n",
    "# ✅ ControlNet에 전달할 입력 이미지 (512x512로 크기 조정)\n",
    "image_size = (512, 512)  # ✅ Stable Diffusion 모델이 기대하는 크기\n",
    "openpose_image = openpose_image.resize(image_size, Image.LANCZOS)  # 이미지 리사이징\n",
    "canny_image = canny_image.resize(image_size, Image.LANCZOS)  # 이미지 리사이징\n",
    "\n",
    "images = [canny_image, openpose_image]\n",
    "\n",
    "\n",
    "# 이미지를 생성합니다. \n",
    "image = pipe(\n",
    "    prompt=prompt,\n",
    "    negative_prompt=negative_prompt,\n",
    "    num_inference_steps=10, \n",
    "    generator=generator, \n",
    "    image=images\n",
    ").images\n",
    "\n",
    "# 생성된 이미지를 저장합니다.\n",
    "image[0].save(\"aiffel/multi_controlnet_output_13.png\")\n",
    "image[1].save(\"aiffel/multi_controlnet_output_14.png\")\n"
   ]
  },
  {
   "cell_type": "code",
   "execution_count": null,
   "id": "78a845c0",
   "metadata": {},
   "outputs": [],
   "source": []
  }
 ],
 "metadata": {
  "kernelspec": {
   "display_name": "Python 3 (ipykernel)",
   "language": "python",
   "name": "python3"
  },
  "language_info": {
   "codemirror_mode": {
    "name": "ipython",
    "version": 3
   },
   "file_extension": ".py",
   "mimetype": "text/x-python",
   "name": "python",
   "nbconvert_exporter": "python",
   "pygments_lexer": "ipython3",
   "version": "3.9.7"
  }
 },
 "nbformat": 4,
 "nbformat_minor": 5
}
